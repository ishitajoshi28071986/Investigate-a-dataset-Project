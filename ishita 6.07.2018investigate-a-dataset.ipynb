{
 "cells": [
  {
   "cell_type": "markdown",
   "metadata": {},
   "source": [
    ">\n",
    "# Project: Investigate a Dataset (The Movie Database )\n",
    "\n",
    "#To analyze and invertigate dataset of TMDb\n",
    "\n",
    "This dataset TMDb (The Movie Database ) contains information on 10866 movies giving various data on runtime, budget, revenue , directors and genres of the films etc. I choose this dataset as I was interested to know more about the movies which is part of our life. So the curiosity to know more about the movies made me select this dataset.\n",
    "I tried to explore various variables and its co relation with other variables within the dataset. \n",
    "like-\n",
    "~ relationship between release_year and popularity.\n",
    "~ relationship between runtime and release_year.\n",
    "~ relationship between runtime and popularity\n",
    "\n",
    "I will explore and find answers to the following questions in the dataset.\n",
    "~ 1 What is the co realtionship between runtime and popularity? More runtime means more popularity?\n",
    "~ 2 Which are the features associated to high popularity (ranking)?\n",
    "~ 3 What has been the budget trends over the years? Did it increase or decrease over the years?\n",
    "~ 4 How does popularity change over the years, how is its trend over the years?\n",
    "~ 5 Which are the movies that got highest and lowest vote average?\n",
    "~ 6 Which are the directors who made highest number of movies and what is the difference in their popularity ranking?\n",
    "~ 7 More vote average means movies with more popular ranking?\n",
    "~ 8 What is the co-relationship between Budget and popularity?\n",
    "~ 9 Which are the top 5  movies with i.highest budget ii. with highest popularity iii.vote average \n",
    "~ 10 Which is the genre with highest number of movies in the dataset?\n",
    "~ 11 How has been the trend of the movie release over the years?\n",
    "~ 12 Which is the most popular movie in this dataset?\n",
    "## Table of Contents\n",
    "<ul>\n",
    "<li><a href=\"#intro\">Introduction</a></li>\n",
    "<li><a href=\"#wrangling\">Data Wrangling</a></li>\n",
    "<li><a href=\"#eda\">Exploratory Data Analysis</a></li>\n",
    "<li><a href=\"#conclusions\">Conclusions</a></li>\n",
    "</ul>"
   ]
  },
  {
   "cell_type": "markdown",
   "metadata": {},
   "source": [
    "\n",
    "## Introduction\n",
    "\n",
    "To get familiarize with the dataset. Understand the data to frame questions. The number of columns and rows, unique values in the dataset."
   ]
  },
  {
   "cell_type": "code",
   "execution_count": 10,
   "metadata": {},
   "outputs": [
    {
     "data": {
      "text/html": [
       "<div>\n",
       "<style scoped>\n",
       "    .dataframe tbody tr th:only-of-type {\n",
       "        vertical-align: middle;\n",
       "    }\n",
       "\n",
       "    .dataframe tbody tr th {\n",
       "        vertical-align: top;\n",
       "    }\n",
       "\n",
       "    .dataframe thead th {\n",
       "        text-align: right;\n",
       "    }\n",
       "</style>\n",
       "<table border=\"1\" class=\"dataframe\">\n",
       "  <thead>\n",
       "    <tr style=\"text-align: right;\">\n",
       "      <th></th>\n",
       "      <th>id</th>\n",
       "      <th>imdb_id</th>\n",
       "      <th>popularity</th>\n",
       "      <th>budget</th>\n",
       "      <th>revenue</th>\n",
       "      <th>original_title</th>\n",
       "      <th>cast</th>\n",
       "      <th>homepage</th>\n",
       "      <th>director</th>\n",
       "      <th>tagline</th>\n",
       "      <th>...</th>\n",
       "      <th>overview</th>\n",
       "      <th>runtime</th>\n",
       "      <th>genres</th>\n",
       "      <th>production_companies</th>\n",
       "      <th>release_date</th>\n",
       "      <th>vote_count</th>\n",
       "      <th>vote_average</th>\n",
       "      <th>release_year</th>\n",
       "      <th>budget_adj</th>\n",
       "      <th>revenue_adj</th>\n",
       "    </tr>\n",
       "  </thead>\n",
       "  <tbody>\n",
       "    <tr>\n",
       "      <th>0</th>\n",
       "      <td>135397</td>\n",
       "      <td>tt0369610</td>\n",
       "      <td>32.985763</td>\n",
       "      <td>150000000</td>\n",
       "      <td>1513528810</td>\n",
       "      <td>Jurassic World</td>\n",
       "      <td>Chris Pratt|Bryce Dallas Howard|Irrfan Khan|Vi...</td>\n",
       "      <td>http://www.jurassicworld.com/</td>\n",
       "      <td>Colin Trevorrow</td>\n",
       "      <td>The park is open.</td>\n",
       "      <td>...</td>\n",
       "      <td>Twenty-two years after the events of Jurassic ...</td>\n",
       "      <td>124</td>\n",
       "      <td>Action|Adventure|Science Fiction|Thriller</td>\n",
       "      <td>Universal Studios|Amblin Entertainment|Legenda...</td>\n",
       "      <td>6/9/2015</td>\n",
       "      <td>5562</td>\n",
       "      <td>6.5</td>\n",
       "      <td>2015</td>\n",
       "      <td>137999939.3</td>\n",
       "      <td>1.392446e+09</td>\n",
       "    </tr>\n",
       "    <tr>\n",
       "      <th>1</th>\n",
       "      <td>76341</td>\n",
       "      <td>tt1392190</td>\n",
       "      <td>28.419936</td>\n",
       "      <td>150000000</td>\n",
       "      <td>378436354</td>\n",
       "      <td>Mad Max: Fury Road</td>\n",
       "      <td>Tom Hardy|Charlize Theron|Hugh Keays-Byrne|Nic...</td>\n",
       "      <td>http://www.madmaxmovie.com/</td>\n",
       "      <td>George Miller</td>\n",
       "      <td>What a Lovely Day.</td>\n",
       "      <td>...</td>\n",
       "      <td>An apocalyptic story set in the furthest reach...</td>\n",
       "      <td>120</td>\n",
       "      <td>Action|Adventure|Science Fiction|Thriller</td>\n",
       "      <td>Village Roadshow Pictures|Kennedy Miller Produ...</td>\n",
       "      <td>5/13/2015</td>\n",
       "      <td>6185</td>\n",
       "      <td>7.1</td>\n",
       "      <td>2015</td>\n",
       "      <td>137999939.3</td>\n",
       "      <td>3.481613e+08</td>\n",
       "    </tr>\n",
       "    <tr>\n",
       "      <th>2</th>\n",
       "      <td>262500</td>\n",
       "      <td>tt2908446</td>\n",
       "      <td>13.112507</td>\n",
       "      <td>110000000</td>\n",
       "      <td>295238201</td>\n",
       "      <td>Insurgent</td>\n",
       "      <td>Shailene Woodley|Theo James|Kate Winslet|Ansel...</td>\n",
       "      <td>http://www.thedivergentseries.movie/#insurgent</td>\n",
       "      <td>Robert Schwentke</td>\n",
       "      <td>One Choice Can Destroy You</td>\n",
       "      <td>...</td>\n",
       "      <td>Beatrice Prior must confront her inner demons ...</td>\n",
       "      <td>119</td>\n",
       "      <td>Adventure|Science Fiction|Thriller</td>\n",
       "      <td>Summit Entertainment|Mandeville Films|Red Wago...</td>\n",
       "      <td>3/18/2015</td>\n",
       "      <td>2480</td>\n",
       "      <td>6.3</td>\n",
       "      <td>2015</td>\n",
       "      <td>101199955.5</td>\n",
       "      <td>2.716190e+08</td>\n",
       "    </tr>\n",
       "    <tr>\n",
       "      <th>3</th>\n",
       "      <td>140607</td>\n",
       "      <td>tt2488496</td>\n",
       "      <td>11.173104</td>\n",
       "      <td>200000000</td>\n",
       "      <td>2068178225</td>\n",
       "      <td>Star Wars: The Force Awakens</td>\n",
       "      <td>Harrison Ford|Mark Hamill|Carrie Fisher|Adam D...</td>\n",
       "      <td>http://www.starwars.com/films/star-wars-episod...</td>\n",
       "      <td>J.J. Abrams</td>\n",
       "      <td>Every generation has a story.</td>\n",
       "      <td>...</td>\n",
       "      <td>Thirty years after defeating the Galactic Empi...</td>\n",
       "      <td>136</td>\n",
       "      <td>Action|Adventure|Science Fiction|Fantasy</td>\n",
       "      <td>Lucasfilm|Truenorth Productions|Bad Robot</td>\n",
       "      <td>12/15/2015</td>\n",
       "      <td>5292</td>\n",
       "      <td>7.5</td>\n",
       "      <td>2015</td>\n",
       "      <td>183999919.0</td>\n",
       "      <td>1.902723e+09</td>\n",
       "    </tr>\n",
       "    <tr>\n",
       "      <th>4</th>\n",
       "      <td>168259</td>\n",
       "      <td>tt2820852</td>\n",
       "      <td>9.335014</td>\n",
       "      <td>190000000</td>\n",
       "      <td>1506249360</td>\n",
       "      <td>Furious 7</td>\n",
       "      <td>Vin Diesel|Paul Walker|Jason Statham|Michelle ...</td>\n",
       "      <td>http://www.furious7.com/</td>\n",
       "      <td>James Wan</td>\n",
       "      <td>Vengeance Hits Home</td>\n",
       "      <td>...</td>\n",
       "      <td>Deckard Shaw seeks revenge against Dominic Tor...</td>\n",
       "      <td>137</td>\n",
       "      <td>Action|Crime|Thriller</td>\n",
       "      <td>Universal Pictures|Original Film|Media Rights ...</td>\n",
       "      <td>4/1/2015</td>\n",
       "      <td>2947</td>\n",
       "      <td>7.3</td>\n",
       "      <td>2015</td>\n",
       "      <td>174799923.1</td>\n",
       "      <td>1.385749e+09</td>\n",
       "    </tr>\n",
       "  </tbody>\n",
       "</table>\n",
       "<p>5 rows × 21 columns</p>\n",
       "</div>"
      ],
      "text/plain": [
       "       id    imdb_id  popularity     budget     revenue  \\\n",
       "0  135397  tt0369610   32.985763  150000000  1513528810   \n",
       "1   76341  tt1392190   28.419936  150000000   378436354   \n",
       "2  262500  tt2908446   13.112507  110000000   295238201   \n",
       "3  140607  tt2488496   11.173104  200000000  2068178225   \n",
       "4  168259  tt2820852    9.335014  190000000  1506249360   \n",
       "\n",
       "                 original_title  \\\n",
       "0                Jurassic World   \n",
       "1            Mad Max: Fury Road   \n",
       "2                     Insurgent   \n",
       "3  Star Wars: The Force Awakens   \n",
       "4                     Furious 7   \n",
       "\n",
       "                                                cast  \\\n",
       "0  Chris Pratt|Bryce Dallas Howard|Irrfan Khan|Vi...   \n",
       "1  Tom Hardy|Charlize Theron|Hugh Keays-Byrne|Nic...   \n",
       "2  Shailene Woodley|Theo James|Kate Winslet|Ansel...   \n",
       "3  Harrison Ford|Mark Hamill|Carrie Fisher|Adam D...   \n",
       "4  Vin Diesel|Paul Walker|Jason Statham|Michelle ...   \n",
       "\n",
       "                                            homepage          director  \\\n",
       "0                      http://www.jurassicworld.com/   Colin Trevorrow   \n",
       "1                        http://www.madmaxmovie.com/     George Miller   \n",
       "2     http://www.thedivergentseries.movie/#insurgent  Robert Schwentke   \n",
       "3  http://www.starwars.com/films/star-wars-episod...       J.J. Abrams   \n",
       "4                           http://www.furious7.com/         James Wan   \n",
       "\n",
       "                         tagline      ...       \\\n",
       "0              The park is open.      ...        \n",
       "1             What a Lovely Day.      ...        \n",
       "2     One Choice Can Destroy You      ...        \n",
       "3  Every generation has a story.      ...        \n",
       "4            Vengeance Hits Home      ...        \n",
       "\n",
       "                                            overview runtime  \\\n",
       "0  Twenty-two years after the events of Jurassic ...     124   \n",
       "1  An apocalyptic story set in the furthest reach...     120   \n",
       "2  Beatrice Prior must confront her inner demons ...     119   \n",
       "3  Thirty years after defeating the Galactic Empi...     136   \n",
       "4  Deckard Shaw seeks revenge against Dominic Tor...     137   \n",
       "\n",
       "                                      genres  \\\n",
       "0  Action|Adventure|Science Fiction|Thriller   \n",
       "1  Action|Adventure|Science Fiction|Thriller   \n",
       "2         Adventure|Science Fiction|Thriller   \n",
       "3   Action|Adventure|Science Fiction|Fantasy   \n",
       "4                      Action|Crime|Thriller   \n",
       "\n",
       "                                production_companies release_date vote_count  \\\n",
       "0  Universal Studios|Amblin Entertainment|Legenda...     6/9/2015       5562   \n",
       "1  Village Roadshow Pictures|Kennedy Miller Produ...    5/13/2015       6185   \n",
       "2  Summit Entertainment|Mandeville Films|Red Wago...    3/18/2015       2480   \n",
       "3          Lucasfilm|Truenorth Productions|Bad Robot   12/15/2015       5292   \n",
       "4  Universal Pictures|Original Film|Media Rights ...     4/1/2015       2947   \n",
       "\n",
       "   vote_average  release_year   budget_adj   revenue_adj  \n",
       "0           6.5          2015  137999939.3  1.392446e+09  \n",
       "1           7.1          2015  137999939.3  3.481613e+08  \n",
       "2           6.3          2015  101199955.5  2.716190e+08  \n",
       "3           7.5          2015  183999919.0  1.902723e+09  \n",
       "4           7.3          2015  174799923.1  1.385749e+09  \n",
       "\n",
       "[5 rows x 21 columns]"
      ]
     },
     "execution_count": 10,
     "metadata": {},
     "output_type": "execute_result"
    }
   ],
   "source": [
    "import pandas as pd\n",
    "import numpy as np\n",
    "import matplotlib.pyplot as plt\n",
    "import seaborn as sns\n",
    "% matplotlib inline\n",
    "\n",
    "df= pd.read_csv('tmdb-movies.csv')\n",
    "df.head()\n"
   ]
  },
  {
   "cell_type": "markdown",
   "metadata": {},
   "source": [
    "Here we see casts, genres, production companies are strings seperated by |. Rest other values in the dataset seems okay."
   ]
  },
  {
   "cell_type": "code",
   "execution_count": 11,
   "metadata": {},
   "outputs": [
    {
     "data": {
      "text/plain": [
       "(10866, 21)"
      ]
     },
     "execution_count": 11,
     "metadata": {},
     "output_type": "execute_result"
    }
   ],
   "source": [
    "df.shape"
   ]
  },
  {
   "cell_type": "markdown",
   "metadata": {},
   "source": [
    "Observation : There are 10866 movie samples and 21 columns in the dataset."
   ]
  },
  {
   "cell_type": "code",
   "execution_count": 12,
   "metadata": {},
   "outputs": [
    {
     "data": {
      "text/plain": [
       "id                         0\n",
       "imdb_id                   10\n",
       "popularity                 0\n",
       "budget                     0\n",
       "revenue                    0\n",
       "original_title             0\n",
       "cast                      76\n",
       "homepage                7930\n",
       "director                  44\n",
       "tagline                 2824\n",
       "keywords                1493\n",
       "overview                   4\n",
       "runtime                    0\n",
       "genres                    23\n",
       "production_companies    1030\n",
       "release_date               0\n",
       "vote_count                 0\n",
       "vote_average               0\n",
       "release_year               0\n",
       "budget_adj                 0\n",
       "revenue_adj                0\n",
       "dtype: int64"
      ]
     },
     "execution_count": 12,
     "metadata": {},
     "output_type": "execute_result"
    }
   ],
   "source": [
    "df.isnull().sum()"
   ]
  },
  {
   "cell_type": "markdown",
   "metadata": {},
   "source": [
    "Observation : Here we see there are missing data in id, cast, hopepage, director, tagline, keywords, overview, production comapnies.\n",
    "Solution  : I will drop null values columns with small quantity of nulls : cast, director, and genres, in further data cleaning section."
   ]
  },
  {
   "cell_type": "code",
   "execution_count": 13,
   "metadata": {},
   "outputs": [
    {
     "data": {
      "text/plain": [
       "id                      10865\n",
       "imdb_id                 10855\n",
       "popularity              10814\n",
       "budget                    557\n",
       "revenue                  4702\n",
       "original_title          10571\n",
       "cast                    10719\n",
       "homepage                 2896\n",
       "director                 5067\n",
       "tagline                  7997\n",
       "keywords                 8804\n",
       "overview                10847\n",
       "runtime                   247\n",
       "genres                   2039\n",
       "production_companies     7445\n",
       "release_date             5909\n",
       "vote_count               1289\n",
       "vote_average               72\n",
       "release_year               56\n",
       "budget_adj               2614\n",
       "revenue_adj              4840\n",
       "dtype: int64"
      ]
     },
     "execution_count": 13,
     "metadata": {},
     "output_type": "execute_result"
    }
   ],
   "source": [
    "# To check the unique values in the data set\n",
    "df.nunique()"
   ]
  },
  {
   "cell_type": "markdown",
   "metadata": {},
   "source": [
    "Observation : We seee unique values of each columns."
   ]
  },
  {
   "cell_type": "code",
   "execution_count": 14,
   "metadata": {},
   "outputs": [
    {
     "data": {
      "text/plain": [
       "id                        int64\n",
       "imdb_id                  object\n",
       "popularity              float64\n",
       "budget                    int64\n",
       "revenue                   int64\n",
       "original_title           object\n",
       "cast                     object\n",
       "homepage                 object\n",
       "director                 object\n",
       "tagline                  object\n",
       "keywords                 object\n",
       "overview                 object\n",
       "runtime                   int64\n",
       "genres                   object\n",
       "production_companies     object\n",
       "release_date             object\n",
       "vote_count                int64\n",
       "vote_average            float64\n",
       "release_year              int64\n",
       "budget_adj              float64\n",
       "revenue_adj             float64\n",
       "dtype: object"
      ]
     },
     "execution_count": 14,
     "metadata": {},
     "output_type": "execute_result"
    }
   ],
   "source": [
    "# to check the data types in the dataset.\n",
    "df.dtypes"
   ]
  },
  {
   "cell_type": "code",
   "execution_count": 15,
   "metadata": {},
   "outputs": [
    {
     "name": "stdout",
     "output_type": "stream",
     "text": [
      "['id', 'imdb_id', 'popularity', 'budget', 'revenue', 'original_title', 'cast', 'homepage', 'director', 'tagline', 'keywords', 'overview', 'runtime', 'genres', 'production_companies', 'release_date', 'vote_count', 'vote_average', 'release_year', 'budget_adj', 'revenue_adj']\n"
     ]
    }
   ],
   "source": [
    "df= pd.read_csv('tmdb-movies.csv')\n",
    "col_name = df.columns.tolist()\n",
    "print (col_name)"
   ]
  },
  {
   "cell_type": "markdown",
   "metadata": {},
   "source": [
    "I get to see all the columns in the dataset. This helps to understand the columns in the dataset and know your data well."
   ]
  },
  {
   "cell_type": "code",
   "execution_count": 16,
   "metadata": {},
   "outputs": [
    {
     "data": {
      "text/plain": [
       "id                      False\n",
       "imdb_id                  True\n",
       "popularity              False\n",
       "budget                  False\n",
       "revenue                 False\n",
       "original_title          False\n",
       "cast                     True\n",
       "homepage                 True\n",
       "director                 True\n",
       "tagline                  True\n",
       "keywords                 True\n",
       "overview                 True\n",
       "runtime                 False\n",
       "genres                   True\n",
       "production_companies     True\n",
       "release_date            False\n",
       "vote_count              False\n",
       "vote_average            False\n",
       "release_year            False\n",
       "budget_adj              False\n",
       "revenue_adj             False\n",
       "dtype: bool"
      ]
     },
     "execution_count": 16,
     "metadata": {},
     "output_type": "execute_result"
    }
   ],
   "source": [
    "# check if there is NaN value in each column\n",
    "df.isna().any()"
   ]
  },
  {
   "cell_type": "markdown",
   "metadata": {},
   "source": [
    "Observation : There are NaN values in many columns."
   ]
  },
  {
   "cell_type": "code",
   "execution_count": 17,
   "metadata": {},
   "outputs": [
    {
     "data": {
      "text/plain": [
       "id                         0\n",
       "imdb_id                   10\n",
       "popularity                 0\n",
       "budget                     0\n",
       "revenue                    0\n",
       "original_title             0\n",
       "cast                      76\n",
       "homepage                7930\n",
       "director                  44\n",
       "tagline                 2824\n",
       "keywords                1493\n",
       "overview                   4\n",
       "runtime                    0\n",
       "genres                    23\n",
       "production_companies    1030\n",
       "release_date               0\n",
       "vote_count                 0\n",
       "vote_average               0\n",
       "release_year               0\n",
       "budget_adj                 0\n",
       "revenue_adj                0\n",
       "dtype: int64"
      ]
     },
     "execution_count": 17,
     "metadata": {},
     "output_type": "execute_result"
    }
   ],
   "source": [
    "# Check the number of NaN values in each feature\n",
    "df.isna().sum()"
   ]
  },
  {
   "cell_type": "markdown",
   "metadata": {},
   "source": [
    "observation : Homepage and tagline have highest number of NaN values followed by keywords in this dataset."
   ]
  },
  {
   "cell_type": "markdown",
   "metadata": {},
   "source": [
    "\n",
    "## Data Wrangling\n",
    "\n",
    "\n",
    "### General Properties"
   ]
  },
  {
   "cell_type": "markdown",
   "metadata": {},
   "source": [
    "# After discussing the structure of the data, Now we will see any problems that need to be adressed in data cleaning process."
   ]
  },
  {
   "cell_type": "code",
   "execution_count": 18,
   "metadata": {},
   "outputs": [
    {
     "name": "stdout",
     "output_type": "stream",
     "text": [
      "<class 'pandas.core.frame.DataFrame'>\n",
      "RangeIndex: 10866 entries, 0 to 10865\n",
      "Data columns (total 21 columns):\n",
      "id                      10866 non-null int64\n",
      "imdb_id                 10856 non-null object\n",
      "popularity              10866 non-null float64\n",
      "budget                  10866 non-null int64\n",
      "revenue                 10866 non-null int64\n",
      "original_title          10866 non-null object\n",
      "cast                    10790 non-null object\n",
      "homepage                2936 non-null object\n",
      "director                10822 non-null object\n",
      "tagline                 8042 non-null object\n",
      "keywords                9373 non-null object\n",
      "overview                10862 non-null object\n",
      "runtime                 10866 non-null int64\n",
      "genres                  10843 non-null object\n",
      "production_companies    9836 non-null object\n",
      "release_date            10866 non-null object\n",
      "vote_count              10866 non-null int64\n",
      "vote_average            10866 non-null float64\n",
      "release_year            10866 non-null int64\n",
      "budget_adj              10866 non-null float64\n",
      "revenue_adj             10866 non-null float64\n",
      "dtypes: float64(4), int64(6), object(11)\n",
      "memory usage: 1.7+ MB\n"
     ]
    }
   ],
   "source": [
    "# check which columns have missing values with info()\n",
    "df.info()"
   ]
  },
  {
   "cell_type": "markdown",
   "metadata": {},
   "source": [
    "Observation: Here I notice few columns have null values which I will clean later in further data cleaning process."
   ]
  },
  {
   "cell_type": "code",
   "execution_count": 19,
   "metadata": {},
   "outputs": [
    {
     "data": {
      "text/plain": [
       "1"
      ]
     },
     "execution_count": 19,
     "metadata": {},
     "output_type": "execute_result"
    }
   ],
   "source": [
    "# To find duplicate rows\n",
    "df.duplicated().sum()"
   ]
  },
  {
   "cell_type": "markdown",
   "metadata": {},
   "source": [
    "Observation : There is one duplicate row. Hence I will drop it in data cleaning section."
   ]
  },
  {
   "cell_type": "code",
   "execution_count": 10,
   "metadata": {},
   "outputs": [],
   "source": [
    "# To understand the data better, summary statistics\n",
    "#Maximum run count is of 900 mins, Majority of the films have runtime of 111 minutes.\n",
    "#df.describe()"
   ]
  },
  {
   "cell_type": "markdown",
   "metadata": {},
   "source": [
    "we get mean and and maximum values of each columns and so can understand data better. Maximum runtime of the movies in this dataset is of 900 mins, Majority of the films have runtime of 111 minutes. Maximum of the films are of the year 2015. I even see that few movies ven have budget of 0$. "
   ]
  },
  {
   "cell_type": "markdown",
   "metadata": {},
   "source": [
    "\n",
    "### Data Cleaning"
   ]
  },
  {
   "cell_type": "markdown",
   "metadata": {},
   "source": [
    "# Will perform data cleaning steps in this part of the section."
   ]
  },
  {
   "cell_type": "code",
   "execution_count": 20,
   "metadata": {},
   "outputs": [],
   "source": [
    "# After discussing the structure of the data and any problems that need to be\n",
    "# To drop or remove the duplicate rows or data in the datatset\n",
    "df.drop_duplicates(inplace=True)"
   ]
  },
  {
   "cell_type": "markdown",
   "metadata": {},
   "source": [
    "I dropped the duplicate rows in the dataaset."
   ]
  },
  {
   "cell_type": "code",
   "execution_count": 21,
   "metadata": {},
   "outputs": [
    {
     "data": {
      "text/plain": [
       "0"
      ]
     },
     "execution_count": 21,
     "metadata": {},
     "output_type": "execute_result"
    }
   ],
   "source": [
    "#Lets check it one more time whether there are any more duplicate rows or data in the dataset.\n",
    "df.duplicated().sum()"
   ]
  },
  {
   "cell_type": "markdown",
   "metadata": {},
   "source": [
    "Observation: Now, we can see no duplicate rows in the dataset."
   ]
  },
  {
   "cell_type": "code",
   "execution_count": 22,
   "metadata": {},
   "outputs": [],
   "source": [
    "# To deal with missing data.\n",
    "drop =['cast', 'director', 'genres']\n",
    "df.dropna(subset= drop, how= 'any', inplace= True)"
   ]
  },
  {
   "cell_type": "markdown",
   "metadata": {},
   "source": [
    "I have dropped the null values in columns- cast, director, genres."
   ]
  },
  {
   "cell_type": "code",
   "execution_count": 23,
   "metadata": {},
   "outputs": [
    {
     "data": {
      "text/plain": [
       "id                         0\n",
       "imdb_id                    5\n",
       "popularity                 0\n",
       "budget                     0\n",
       "revenue                    0\n",
       "original_title             0\n",
       "cast                       0\n",
       "homepage                7838\n",
       "director                   0\n",
       "tagline                 2730\n",
       "keywords                1425\n",
       "overview                   2\n",
       "runtime                    0\n",
       "genres                     0\n",
       "production_companies     959\n",
       "release_date               0\n",
       "vote_count                 0\n",
       "vote_average               0\n",
       "release_year               0\n",
       "budget_adj                 0\n",
       "revenue_adj                0\n",
       "dtype: int64"
      ]
     },
     "execution_count": 23,
     "metadata": {},
     "output_type": "execute_result"
    }
   ],
   "source": [
    "#Lets again check the dataset to see if the changes are made.\n",
    "df.isnull().sum()"
   ]
  },
  {
   "cell_type": "markdown",
   "metadata": {},
   "source": [
    "Observation: I can notice here that null values in homepage, tagline, keywords, and production_companies. I will not use homepage, tagline and keywords in my data analysis in future so i will drop these columns later. "
   ]
  },
  {
   "cell_type": "code",
   "execution_count": 24,
   "metadata": {},
   "outputs": [
    {
     "data": {
      "text/plain": [
       "budget\n",
       "0    5578\n",
       "1       4\n",
       "2       1\n",
       "3       3\n",
       "5       1\n",
       "Name: id, dtype: int64"
      ]
     },
     "execution_count": 24,
     "metadata": {},
     "output_type": "execute_result"
    }
   ],
   "source": [
    "# To check number of values in the budget with 0 value.\n",
    "df_budget= df.groupby('budget').count()['id']\n",
    "df_budget.head(5)"
   ]
  },
  {
   "cell_type": "code",
   "execution_count": 25,
   "metadata": {},
   "outputs": [
    {
     "data": {
      "text/plain": [
       "revenue\n",
       "0    5888\n",
       "2       2\n",
       "3       3\n",
       "5       2\n",
       "6       2\n",
       "Name: id, dtype: int64"
      ]
     },
     "execution_count": 25,
     "metadata": {},
     "output_type": "execute_result"
    }
   ],
   "source": [
    "# To check number of values in the revenue with 0 value.\n",
    "df_revenue= df.groupby('revenue').count()['id']\n",
    "df_revenue.head(5)"
   ]
  },
  {
   "cell_type": "markdown",
   "metadata": {},
   "source": [
    "There can be no films with 0 budget and 0 revenue."
   ]
  },
  {
   "cell_type": "markdown",
   "metadata": {},
   "source": [
    "Note:- I will replace the values of 0 in budget and revenue with null value in budget and revenue column as they are huge in amount that is more that 50 percent of the movies in the dataset. It will be wise decision to replace the 0 values with null values."
   ]
  },
  {
   "cell_type": "code",
   "execution_count": 26,
   "metadata": {},
   "outputs": [
    {
     "name": "stdout",
     "output_type": "stream",
     "text": [
      "<class 'pandas.core.frame.DataFrame'>\n",
      "Int64Index: 10731 entries, 0 to 10865\n",
      "Data columns (total 21 columns):\n",
      "id                      10731 non-null int64\n",
      "imdb_id                 10726 non-null object\n",
      "popularity              10731 non-null float64\n",
      "budget                  5153 non-null float64\n",
      "revenue                 4843 non-null float64\n",
      "original_title          10731 non-null object\n",
      "cast                    10731 non-null object\n",
      "homepage                2893 non-null object\n",
      "director                10731 non-null object\n",
      "tagline                 8001 non-null object\n",
      "keywords                9306 non-null object\n",
      "overview                10729 non-null object\n",
      "runtime                 10731 non-null int64\n",
      "genres                  10731 non-null object\n",
      "production_companies    9772 non-null object\n",
      "release_date            10731 non-null object\n",
      "vote_count              10731 non-null int64\n",
      "vote_average            10731 non-null float64\n",
      "release_year            10731 non-null int64\n",
      "budget_adj              10731 non-null float64\n",
      "revenue_adj             10731 non-null float64\n",
      "dtypes: float64(6), int64(4), object(11)\n",
      "memory usage: 1.8+ MB\n"
     ]
    }
   ],
   "source": [
    "df['budget'] = df['budget'].replace(0,np.NaN)\n",
    "df['revenue'] = df['revenue'].replace(0,np.NaN)\n",
    "df.info()"
   ]
  },
  {
   "cell_type": "code",
   "execution_count": 27,
   "metadata": {},
   "outputs": [
    {
     "data": {
      "text/plain": [
       "runtime\n",
       "0    28\n",
       "3     9\n",
       "4    12\n",
       "5    12\n",
       "6    18\n",
       "Name: id, dtype: int64"
      ]
     },
     "execution_count": 27,
     "metadata": {},
     "output_type": "execute_result"
    }
   ],
   "source": [
    "# lets see the number of movies with 0runtime and its not possible to have such movies with no that is 0 runtime.\n",
    "df_runtime= df.groupby('runtime').count()['id']\n",
    "df_runtime.head(5)"
   ]
  },
  {
   "cell_type": "markdown",
   "metadata": {},
   "source": [
    "Observation: There are 28 such movies with 0 runtime. \n",
    "Solution: Its better to just drop them or remove them from the dataset as they are very few."
   ]
  },
  {
   "cell_type": "code",
   "execution_count": 28,
   "metadata": {},
   "outputs": [
    {
     "data": {
      "text/html": [
       "<div>\n",
       "<style scoped>\n",
       "    .dataframe tbody tr th:only-of-type {\n",
       "        vertical-align: middle;\n",
       "    }\n",
       "\n",
       "    .dataframe tbody tr th {\n",
       "        vertical-align: top;\n",
       "    }\n",
       "\n",
       "    .dataframe thead th {\n",
       "        text-align: right;\n",
       "    }\n",
       "</style>\n",
       "<table border=\"1\" class=\"dataframe\">\n",
       "  <thead>\n",
       "    <tr style=\"text-align: right;\">\n",
       "      <th></th>\n",
       "      <th>id</th>\n",
       "      <th>imdb_id</th>\n",
       "      <th>popularity</th>\n",
       "      <th>budget</th>\n",
       "      <th>revenue</th>\n",
       "      <th>original_title</th>\n",
       "      <th>cast</th>\n",
       "      <th>homepage</th>\n",
       "      <th>director</th>\n",
       "      <th>tagline</th>\n",
       "      <th>...</th>\n",
       "      <th>overview</th>\n",
       "      <th>runtime</th>\n",
       "      <th>genres</th>\n",
       "      <th>production_companies</th>\n",
       "      <th>release_date</th>\n",
       "      <th>vote_count</th>\n",
       "      <th>vote_average</th>\n",
       "      <th>release_year</th>\n",
       "      <th>budget_adj</th>\n",
       "      <th>revenue_adj</th>\n",
       "    </tr>\n",
       "  </thead>\n",
       "  <tbody>\n",
       "  </tbody>\n",
       "</table>\n",
       "<p>0 rows × 21 columns</p>\n",
       "</div>"
      ],
      "text/plain": [
       "Empty DataFrame\n",
       "Columns: [id, imdb_id, popularity, budget, revenue, original_title, cast, homepage, director, tagline, keywords, overview, runtime, genres, production_companies, release_date, vote_count, vote_average, release_year, budget_adj, revenue_adj]\n",
       "Index: []\n",
       "\n",
       "[0 rows x 21 columns]"
      ]
     },
     "execution_count": 28,
     "metadata": {},
     "output_type": "execute_result"
    }
   ],
   "source": [
    "df.query('runtime!=0', inplace=True)\n",
    "df.query('runtime==0')"
   ]
  },
  {
   "cell_type": "markdown",
   "metadata": {},
   "source": [
    "Observation : So now no columns with runtime = 0"
   ]
  },
  {
   "cell_type": "code",
   "execution_count": 29,
   "metadata": {},
   "outputs": [
    {
     "data": {
      "text/plain": [
       "runtime\n",
       "3     9\n",
       "4    12\n",
       "5    12\n",
       "6    18\n",
       "7    14\n",
       "Name: id, dtype: int64"
      ]
     },
     "execution_count": 29,
     "metadata": {},
     "output_type": "execute_result"
    }
   ],
   "source": [
    "df_runtime= df.groupby('runtime').count()['id']\n",
    "df_runtime.head(5)"
   ]
  },
  {
   "cell_type": "code",
   "execution_count": 30,
   "metadata": {},
   "outputs": [],
   "source": [
    "# to rop columns that are not needed for data anlysis from the dataset.\n",
    "\n",
    "df.drop(['imdb_id', 'tagline','homepage','keywords', 'overview'], axis= 1, inplace=True)"
   ]
  },
  {
   "cell_type": "code",
   "execution_count": 31,
   "metadata": {},
   "outputs": [
    {
     "data": {
      "text/html": [
       "<div>\n",
       "<style scoped>\n",
       "    .dataframe tbody tr th:only-of-type {\n",
       "        vertical-align: middle;\n",
       "    }\n",
       "\n",
       "    .dataframe tbody tr th {\n",
       "        vertical-align: top;\n",
       "    }\n",
       "\n",
       "    .dataframe thead th {\n",
       "        text-align: right;\n",
       "    }\n",
       "</style>\n",
       "<table border=\"1\" class=\"dataframe\">\n",
       "  <thead>\n",
       "    <tr style=\"text-align: right;\">\n",
       "      <th></th>\n",
       "      <th>id</th>\n",
       "      <th>popularity</th>\n",
       "      <th>budget</th>\n",
       "      <th>revenue</th>\n",
       "      <th>original_title</th>\n",
       "      <th>cast</th>\n",
       "      <th>director</th>\n",
       "      <th>runtime</th>\n",
       "      <th>genres</th>\n",
       "      <th>production_companies</th>\n",
       "      <th>release_date</th>\n",
       "      <th>vote_count</th>\n",
       "      <th>vote_average</th>\n",
       "      <th>release_year</th>\n",
       "      <th>budget_adj</th>\n",
       "      <th>revenue_adj</th>\n",
       "    </tr>\n",
       "  </thead>\n",
       "  <tbody>\n",
       "    <tr>\n",
       "      <th>0</th>\n",
       "      <td>135397</td>\n",
       "      <td>32.985763</td>\n",
       "      <td>150000000.0</td>\n",
       "      <td>1.513529e+09</td>\n",
       "      <td>Jurassic World</td>\n",
       "      <td>Chris Pratt|Bryce Dallas Howard|Irrfan Khan|Vi...</td>\n",
       "      <td>Colin Trevorrow</td>\n",
       "      <td>124</td>\n",
       "      <td>Action|Adventure|Science Fiction|Thriller</td>\n",
       "      <td>Universal Studios|Amblin Entertainment|Legenda...</td>\n",
       "      <td>6/9/2015</td>\n",
       "      <td>5562</td>\n",
       "      <td>6.5</td>\n",
       "      <td>2015</td>\n",
       "      <td>137999939.3</td>\n",
       "      <td>1.392446e+09</td>\n",
       "    </tr>\n",
       "  </tbody>\n",
       "</table>\n",
       "</div>"
      ],
      "text/plain": [
       "       id  popularity       budget       revenue  original_title  \\\n",
       "0  135397   32.985763  150000000.0  1.513529e+09  Jurassic World   \n",
       "\n",
       "                                                cast         director  \\\n",
       "0  Chris Pratt|Bryce Dallas Howard|Irrfan Khan|Vi...  Colin Trevorrow   \n",
       "\n",
       "   runtime                                     genres  \\\n",
       "0      124  Action|Adventure|Science Fiction|Thriller   \n",
       "\n",
       "                                production_companies release_date  vote_count  \\\n",
       "0  Universal Studios|Amblin Entertainment|Legenda...     6/9/2015        5562   \n",
       "\n",
       "   vote_average  release_year   budget_adj   revenue_adj  \n",
       "0           6.5          2015  137999939.3  1.392446e+09  "
      ]
     },
     "execution_count": 31,
     "metadata": {},
     "output_type": "execute_result"
    }
   ],
   "source": [
    "# To check the changes made \n",
    "df.head(1)"
   ]
  },
  {
   "cell_type": "code",
   "execution_count": 32,
   "metadata": {},
   "outputs": [
    {
     "data": {
      "text/html": [
       "<div>\n",
       "<style scoped>\n",
       "    .dataframe tbody tr th:only-of-type {\n",
       "        vertical-align: middle;\n",
       "    }\n",
       "\n",
       "    .dataframe tbody tr th {\n",
       "        vertical-align: top;\n",
       "    }\n",
       "\n",
       "    .dataframe thead th {\n",
       "        text-align: right;\n",
       "    }\n",
       "</style>\n",
       "<table border=\"1\" class=\"dataframe\">\n",
       "  <thead>\n",
       "    <tr style=\"text-align: right;\">\n",
       "      <th></th>\n",
       "      <th>id</th>\n",
       "      <th>popularity</th>\n",
       "      <th>budget</th>\n",
       "      <th>revenue</th>\n",
       "      <th>runtime</th>\n",
       "      <th>vote_count</th>\n",
       "      <th>vote_average</th>\n",
       "      <th>release_year</th>\n",
       "      <th>budget_adj</th>\n",
       "      <th>revenue_adj</th>\n",
       "    </tr>\n",
       "  </thead>\n",
       "  <tbody>\n",
       "    <tr>\n",
       "      <th>count</th>\n",
       "      <td>10703.000000</td>\n",
       "      <td>10703.000000</td>\n",
       "      <td>5.150000e+03</td>\n",
       "      <td>4.843000e+03</td>\n",
       "      <td>10703.000000</td>\n",
       "      <td>10703.000000</td>\n",
       "      <td>10703.000000</td>\n",
       "      <td>10703.000000</td>\n",
       "      <td>1.070300e+04</td>\n",
       "      <td>1.070300e+04</td>\n",
       "    </tr>\n",
       "    <tr>\n",
       "      <th>mean</th>\n",
       "      <td>64904.988321</td>\n",
       "      <td>0.653818</td>\n",
       "      <td>3.084401e+07</td>\n",
       "      <td>8.933981e+07</td>\n",
       "      <td>102.736896</td>\n",
       "      <td>220.333178</td>\n",
       "      <td>5.966112</td>\n",
       "      <td>2001.235355</td>\n",
       "      <td>1.781061e+07</td>\n",
       "      <td>5.214228e+07</td>\n",
       "    </tr>\n",
       "    <tr>\n",
       "      <th>std</th>\n",
       "      <td>91161.996308</td>\n",
       "      <td>1.005687</td>\n",
       "      <td>3.893782e+07</td>\n",
       "      <td>1.621546e+08</td>\n",
       "      <td>30.079331</td>\n",
       "      <td>579.481969</td>\n",
       "      <td>0.930155</td>\n",
       "      <td>12.825920</td>\n",
       "      <td>3.449988e+07</td>\n",
       "      <td>1.455909e+08</td>\n",
       "    </tr>\n",
       "    <tr>\n",
       "      <th>min</th>\n",
       "      <td>5.000000</td>\n",
       "      <td>0.000188</td>\n",
       "      <td>1.000000e+00</td>\n",
       "      <td>2.000000e+00</td>\n",
       "      <td>3.000000</td>\n",
       "      <td>10.000000</td>\n",
       "      <td>1.500000</td>\n",
       "      <td>1960.000000</td>\n",
       "      <td>0.000000e+00</td>\n",
       "      <td>0.000000e+00</td>\n",
       "    </tr>\n",
       "    <tr>\n",
       "      <th>25%</th>\n",
       "      <td>10538.500000</td>\n",
       "      <td>0.211533</td>\n",
       "      <td>6.000000e+06</td>\n",
       "      <td>7.779664e+06</td>\n",
       "      <td>90.000000</td>\n",
       "      <td>17.000000</td>\n",
       "      <td>5.400000</td>\n",
       "      <td>1995.000000</td>\n",
       "      <td>0.000000e+00</td>\n",
       "      <td>0.000000e+00</td>\n",
       "    </tr>\n",
       "    <tr>\n",
       "      <th>50%</th>\n",
       "      <td>20235.000000</td>\n",
       "      <td>0.388036</td>\n",
       "      <td>1.750000e+07</td>\n",
       "      <td>3.191160e+07</td>\n",
       "      <td>99.000000</td>\n",
       "      <td>39.000000</td>\n",
       "      <td>6.000000</td>\n",
       "      <td>2006.000000</td>\n",
       "      <td>0.000000e+00</td>\n",
       "      <td>0.000000e+00</td>\n",
       "    </tr>\n",
       "    <tr>\n",
       "      <th>75%</th>\n",
       "      <td>73637.000000</td>\n",
       "      <td>0.722438</td>\n",
       "      <td>4.000000e+07</td>\n",
       "      <td>1.000000e+08</td>\n",
       "      <td>112.000000</td>\n",
       "      <td>149.000000</td>\n",
       "      <td>6.600000</td>\n",
       "      <td>2011.000000</td>\n",
       "      <td>2.116414e+07</td>\n",
       "      <td>3.497353e+07</td>\n",
       "    </tr>\n",
       "    <tr>\n",
       "      <th>max</th>\n",
       "      <td>417859.000000</td>\n",
       "      <td>32.985763</td>\n",
       "      <td>4.250000e+08</td>\n",
       "      <td>2.781506e+09</td>\n",
       "      <td>900.000000</td>\n",
       "      <td>9767.000000</td>\n",
       "      <td>9.200000</td>\n",
       "      <td>2015.000000</td>\n",
       "      <td>4.250000e+08</td>\n",
       "      <td>2.827124e+09</td>\n",
       "    </tr>\n",
       "  </tbody>\n",
       "</table>\n",
       "</div>"
      ],
      "text/plain": [
       "                  id    popularity        budget       revenue       runtime  \\\n",
       "count   10703.000000  10703.000000  5.150000e+03  4.843000e+03  10703.000000   \n",
       "mean    64904.988321      0.653818  3.084401e+07  8.933981e+07    102.736896   \n",
       "std     91161.996308      1.005687  3.893782e+07  1.621546e+08     30.079331   \n",
       "min         5.000000      0.000188  1.000000e+00  2.000000e+00      3.000000   \n",
       "25%     10538.500000      0.211533  6.000000e+06  7.779664e+06     90.000000   \n",
       "50%     20235.000000      0.388036  1.750000e+07  3.191160e+07     99.000000   \n",
       "75%     73637.000000      0.722438  4.000000e+07  1.000000e+08    112.000000   \n",
       "max    417859.000000     32.985763  4.250000e+08  2.781506e+09    900.000000   \n",
       "\n",
       "         vote_count  vote_average  release_year    budget_adj   revenue_adj  \n",
       "count  10703.000000  10703.000000  10703.000000  1.070300e+04  1.070300e+04  \n",
       "mean     220.333178      5.966112   2001.235355  1.781061e+07  5.214228e+07  \n",
       "std      579.481969      0.930155     12.825920  3.449988e+07  1.455909e+08  \n",
       "min       10.000000      1.500000   1960.000000  0.000000e+00  0.000000e+00  \n",
       "25%       17.000000      5.400000   1995.000000  0.000000e+00  0.000000e+00  \n",
       "50%       39.000000      6.000000   2006.000000  0.000000e+00  0.000000e+00  \n",
       "75%      149.000000      6.600000   2011.000000  2.116414e+07  3.497353e+07  \n",
       "max     9767.000000      9.200000   2015.000000  4.250000e+08  2.827124e+09  "
      ]
     },
     "execution_count": 32,
     "metadata": {},
     "output_type": "execute_result"
    }
   ],
   "source": [
    "df.describe()"
   ]
  },
  {
   "cell_type": "markdown",
   "metadata": {},
   "source": [
    "Observation: We can see no 0 values in the budget and revenue. The statistics analysis is better with out values with 'zero'."
   ]
  },
  {
   "cell_type": "markdown",
   "metadata": {},
   "source": [
    "# Initial analysis of the data. \n",
    "# Exploratory Data Analysis\n"
   ]
  },
  {
   "cell_type": "code",
   "execution_count": 33,
   "metadata": {},
   "outputs": [
    {
     "data": {
      "image/png": "[encoded data removed]",
      "text/plain": [
       "<Figure size 720x720 with 12 Axes>"
      ]
     },
     "metadata": {},
     "output_type": "display_data"
    }
   ],
   "source": [
    "df.hist(figsize=(10,10));"
   ]
  },
  {
   "cell_type": "markdown",
   "metadata": {},
   "source": [
    "Observation: - We can understand the data better with the help of histogram. Few histograms are left skewed histograms like runtime release year. the mean of the data will be less than the median.\n",
    "\n",
    "-Maximum of the histograms are right skewed like revenue_adj , vote_count, budget, budget_adj etc.Hence mean will be greater than the median. \n",
    "\n",
    "-Only vote_average has normal didtribution of the data in that column, It looks like the bell curve."
   ]
  },
  {
   "cell_type": "markdown",
   "metadata": {},
   "source": [
    "# Relationship between the variables."
   ]
  },
  {
   "cell_type": "code",
   "execution_count": 34,
   "metadata": {},
   "outputs": [
    {
     "data": {
      "image/png": "[encoded data removed]",
      "text/plain": [
       "<Figure size 432x288 with 1 Axes>"
      ]
     },
     "metadata": {},
     "output_type": "display_data"
    }
   ],
   "source": [
    " # To plot relationship between release_year and popularity\n",
    "df.plot(x='release_year', y='popularity', kind='scatter');"
   ]
  },
  {
   "cell_type": "markdown",
   "metadata": {},
   "source": [
    "Observation: From the above scatter plot we see that there has been a gradual increase in the popularity ranking from 1960 to 2015. Post 2012 a great rise in the popularity ranking."
   ]
  },
  {
   "cell_type": "code",
   "execution_count": 35,
   "metadata": {},
   "outputs": [
    {
     "data": {
      "image/png": "[encoded data removed]",
      "text/plain": [
       "<Figure size 432x288 with 1 Axes>"
      ]
     },
     "metadata": {},
     "output_type": "display_data"
    }
   ],
   "source": [
    " #plot relationship between runtime and release_year\n",
    "df.plot(x='runtime', y='release_year', kind='scatter');"
   ]
  },
  {
   "cell_type": "markdown",
   "metadata": {},
   "source": [
    "Observation: From the above scatter plot we can observe that there has been rise in runtime post 1990 and pre 1990 the runtime of the movies in the dataset remains almost similar till 1960. There is a mojor increase in runtime from 2000 to 2015."
   ]
  },
  {
   "cell_type": "code",
   "execution_count": 36,
   "metadata": {},
   "outputs": [
    {
     "data": {
      "image/png": "[encoded data removed]",
      "text/plain": [
       "<Figure size 432x288 with 1 Axes>"
      ]
     },
     "metadata": {},
     "output_type": "display_data"
    }
   ],
   "source": [
    " #plot relationship between runtime and popularity\n",
    "df.plot(x='runtime', y='popularity', kind='scatter');"
   ]
  },
  {
   "cell_type": "markdown",
   "metadata": {},
   "source": [
    "Observation : Maximum of the movies are in between 100 and 180 minustes runtime range. There are very few movies whoes runtime crosses 200 minutes mark. To my surprise there are very few movies that even cross 250 minutes, even 400 minutes runtime."
   ]
  },
  {
   "cell_type": "markdown",
   "metadata": {},
   "source": [
    "# Question 1  What is the co realtionship between runtime and popularity? More runtime means more popularity?"
   ]
  },
  {
   "cell_type": "code",
   "execution_count": 37,
   "metadata": {},
   "outputs": [
    {
     "data": {
      "text/plain": [
       "99.0"
      ]
     },
     "execution_count": 37,
     "metadata": {},
     "output_type": "execute_result"
    }
   ],
   "source": [
    "df.runtime.median()"
   ]
  },
  {
   "cell_type": "code",
   "execution_count": 38,
   "metadata": {},
   "outputs": [
    {
     "data": {
      "text/plain": [
       "0.388036"
      ]
     },
     "execution_count": 38,
     "metadata": {},
     "output_type": "execute_result"
    }
   ],
   "source": [
    "df.popularity.median()"
   ]
  },
  {
   "cell_type": "markdown",
   "metadata": {},
   "source": [
    "Observation : Here we get the median of the runtime and the popularity ranking of the dataset"
   ]
  },
  {
   "cell_type": "code",
   "execution_count": 39,
   "metadata": {},
   "outputs": [],
   "source": [
    "# select movies with less and more than the median runtime\n",
    "less_runtime = df[df.runtime <99 ]\n",
    "more_runtime = df[df.runtime >=99 ]"
   ]
  },
  {
   "cell_type": "code",
   "execution_count": 40,
   "metadata": {},
   "outputs": [
    {
     "data": {
      "text/plain": [
       "True"
      ]
     },
     "execution_count": 40,
     "metadata": {},
     "output_type": "execute_result"
    }
   ],
   "source": [
    "num_runtime = df.shape[0]\n",
    "num_runtime == less_runtime ['popularity'].count() + more_runtime['popularity'].count() # should be True"
   ]
  },
  {
   "cell_type": "code",
   "execution_count": 41,
   "metadata": {},
   "outputs": [
    {
     "data": {
      "text/plain": [
       "(0.47801760457142684, 0.8230747157527969)"
      ]
     },
     "execution_count": 41,
     "metadata": {},
     "output_type": "execute_result"
    }
   ],
   "source": [
    "# To get mean popularity for the less runtime and more runtime groups\n",
    "less_runtime.popularity.mean(), more_runtime.popularity.mean()"
   ]
  },
  {
   "cell_type": "markdown",
   "metadata": {},
   "source": [
    "Observation: The mean popularity of the less run time is lesser than the mean popularity of the more time. Hence more the runtime more is the popularity."
   ]
  },
  {
   "cell_type": "code",
   "execution_count": 42,
   "metadata": {},
   "outputs": [],
   "source": [
    "median = df['runtime'].median()\n",
    "less = df.query('runtime < {}'.format(median))\n",
    "more = df.query('runtime >= {}'.format(median))\n",
    "\n",
    "mean_popularity_less = less['popularity'].mean()\n",
    "mean_popularity_more = more['popularity'].mean()"
   ]
  },
  {
   "cell_type": "code",
   "execution_count": 43,
   "metadata": {},
   "outputs": [
    {
     "data": {
      "image/png": "[encoded data removed]",
      "text/plain": [
       "<Figure size 432x288 with 1 Axes>"
      ]
     },
     "metadata": {},
     "output_type": "display_data"
    }
   ],
   "source": [
    "locations = [1, 2]\n",
    "heights = [mean_popularity_less, mean_popularity_more]\n",
    "labels = ['Less', 'More']\n",
    "plt.bar(locations, heights, tick_label=labels)\n",
    "plt.title('Average popularity ranking by runtime')\n",
    "plt.xlabel('Runtime')\n",
    "plt.ylabel('Average popularity ranking');"
   ]
  },
  {
   "cell_type": "markdown",
   "metadata": {},
   "source": [
    "Observation: Less the runtime, less is the average popularity ranking and more the runtime, more is the average popularity ranking."
   ]
  },
  {
   "cell_type": "code",
   "execution_count": 44,
   "metadata": {},
   "outputs": [
    {
     "data": {
      "text/plain": [
       "5225"
      ]
     },
     "execution_count": 44,
     "metadata": {},
     "output_type": "execute_result"
    }
   ],
   "source": [
    "df[df['runtime']> 99].shape[0]"
   ]
  },
  {
   "cell_type": "markdown",
   "metadata": {},
   "source": [
    "There are 5252 films which are more than the median runtime of 99 minutes"
   ]
  },
  {
   "cell_type": "code",
   "execution_count": 45,
   "metadata": {},
   "outputs": [
    {
     "data": {
      "text/plain": [
       "5478"
      ]
     },
     "execution_count": 45,
     "metadata": {},
     "output_type": "execute_result"
    }
   ],
   "source": [
    "df[df['runtime']<= 99].shape[0]"
   ]
  },
  {
   "cell_type": "markdown",
   "metadata": {},
   "source": [
    "Observation: There are 5614 films which are less than or equal to the median runtime of 99 minutes in this dataset. There are more movies of less than the median runtime of 99 minutes than the movies whose runtime is more than the median."
   ]
  },
  {
   "cell_type": "markdown",
   "metadata": {},
   "source": [
    " # Question 2 Which are the features associated to high popularity (ranking)?"
   ]
  },
  {
   "cell_type": "code",
   "execution_count": 46,
   "metadata": {},
   "outputs": [
    {
     "data": {
      "text/html": [
       "<div>\n",
       "<style scoped>\n",
       "    .dataframe tbody tr th:only-of-type {\n",
       "        vertical-align: middle;\n",
       "    }\n",
       "\n",
       "    .dataframe tbody tr th {\n",
       "        vertical-align: top;\n",
       "    }\n",
       "\n",
       "    .dataframe thead th {\n",
       "        text-align: right;\n",
       "    }\n",
       "</style>\n",
       "<table border=\"1\" class=\"dataframe\">\n",
       "  <thead>\n",
       "    <tr style=\"text-align: right;\">\n",
       "      <th></th>\n",
       "      <th>id</th>\n",
       "      <th>popularity</th>\n",
       "      <th>budget</th>\n",
       "      <th>revenue</th>\n",
       "      <th>runtime</th>\n",
       "      <th>vote_count</th>\n",
       "      <th>vote_average</th>\n",
       "      <th>release_year</th>\n",
       "      <th>budget_adj</th>\n",
       "      <th>revenue_adj</th>\n",
       "    </tr>\n",
       "  </thead>\n",
       "  <tbody>\n",
       "    <tr>\n",
       "      <th>count</th>\n",
       "      <td>3023.000000</td>\n",
       "      <td>3023.000000</td>\n",
       "      <td>2.475000e+03</td>\n",
       "      <td>2.510000e+03</td>\n",
       "      <td>3023.000000</td>\n",
       "      <td>3023.000000</td>\n",
       "      <td>3023.000000</td>\n",
       "      <td>3023.000000</td>\n",
       "      <td>3.023000e+03</td>\n",
       "      <td>3.023000e+03</td>\n",
       "    </tr>\n",
       "    <tr>\n",
       "      <th>mean</th>\n",
       "      <td>55864.132319</td>\n",
       "      <td>1.557925</td>\n",
       "      <td>4.664944e+07</td>\n",
       "      <td>1.481411e+08</td>\n",
       "      <td>107.845518</td>\n",
       "      <td>655.483626</td>\n",
       "      <td>6.255409</td>\n",
       "      <td>2003.026133</td>\n",
       "      <td>4.386546e+07</td>\n",
       "      <td>1.528614e+08</td>\n",
       "    </tr>\n",
       "    <tr>\n",
       "      <th>std</th>\n",
       "      <td>85914.229144</td>\n",
       "      <td>1.540484</td>\n",
       "      <td>4.681541e+07</td>\n",
       "      <td>2.041149e+08</td>\n",
       "      <td>23.557236</td>\n",
       "      <td>943.603546</td>\n",
       "      <td>0.798126</td>\n",
       "      <td>11.221536</td>\n",
       "      <td>4.884795e+07</td>\n",
       "      <td>2.367186e+08</td>\n",
       "    </tr>\n",
       "    <tr>\n",
       "      <th>min</th>\n",
       "      <td>5.000000</td>\n",
       "      <td>0.654013</td>\n",
       "      <td>8.000000e+00</td>\n",
       "      <td>1.600000e+01</td>\n",
       "      <td>3.000000</td>\n",
       "      <td>10.000000</td>\n",
       "      <td>3.300000</td>\n",
       "      <td>1960.000000</td>\n",
       "      <td>0.000000e+00</td>\n",
       "      <td>0.000000e+00</td>\n",
       "    </tr>\n",
       "    <tr>\n",
       "      <th>25%</th>\n",
       "      <td>4599.000000</td>\n",
       "      <td>0.826427</td>\n",
       "      <td>1.500000e+07</td>\n",
       "      <td>2.942036e+07</td>\n",
       "      <td>95.000000</td>\n",
       "      <td>146.000000</td>\n",
       "      <td>5.700000</td>\n",
       "      <td>1997.000000</td>\n",
       "      <td>6.447637e+06</td>\n",
       "      <td>7.954789e+06</td>\n",
       "    </tr>\n",
       "    <tr>\n",
       "      <th>50%</th>\n",
       "      <td>11374.000000</td>\n",
       "      <td>1.101383</td>\n",
       "      <td>3.000000e+07</td>\n",
       "      <td>8.123583e+07</td>\n",
       "      <td>105.000000</td>\n",
       "      <td>318.000000</td>\n",
       "      <td>6.300000</td>\n",
       "      <td>2006.000000</td>\n",
       "      <td>2.849233e+07</td>\n",
       "      <td>7.054186e+07</td>\n",
       "    </tr>\n",
       "    <tr>\n",
       "      <th>75%</th>\n",
       "      <td>68431.500000</td>\n",
       "      <td>1.691642</td>\n",
       "      <td>6.300000e+07</td>\n",
       "      <td>1.808674e+08</td>\n",
       "      <td>119.000000</td>\n",
       "      <td>728.500000</td>\n",
       "      <td>6.800000</td>\n",
       "      <td>2012.000000</td>\n",
       "      <td>6.418058e+07</td>\n",
       "      <td>1.912459e+08</td>\n",
       "    </tr>\n",
       "    <tr>\n",
       "      <th>max</th>\n",
       "      <td>417859.000000</td>\n",
       "      <td>32.985763</td>\n",
       "      <td>3.800000e+08</td>\n",
       "      <td>2.781506e+09</td>\n",
       "      <td>540.000000</td>\n",
       "      <td>9767.000000</td>\n",
       "      <td>8.400000</td>\n",
       "      <td>2015.000000</td>\n",
       "      <td>3.683713e+08</td>\n",
       "      <td>2.827124e+09</td>\n",
       "    </tr>\n",
       "  </tbody>\n",
       "</table>\n",
       "</div>"
      ],
      "text/plain": [
       "                  id   popularity        budget       revenue      runtime  \\\n",
       "count    3023.000000  3023.000000  2.475000e+03  2.510000e+03  3023.000000   \n",
       "mean    55864.132319     1.557925  4.664944e+07  1.481411e+08   107.845518   \n",
       "std     85914.229144     1.540484  4.681541e+07  2.041149e+08    23.557236   \n",
       "min         5.000000     0.654013  8.000000e+00  1.600000e+01     3.000000   \n",
       "25%      4599.000000     0.826427  1.500000e+07  2.942036e+07    95.000000   \n",
       "50%     11374.000000     1.101383  3.000000e+07  8.123583e+07   105.000000   \n",
       "75%     68431.500000     1.691642  6.300000e+07  1.808674e+08   119.000000   \n",
       "max    417859.000000    32.985763  3.800000e+08  2.781506e+09   540.000000   \n",
       "\n",
       "        vote_count  vote_average  release_year    budget_adj   revenue_adj  \n",
       "count  3023.000000   3023.000000   3023.000000  3.023000e+03  3.023000e+03  \n",
       "mean    655.483626      6.255409   2003.026133  4.386546e+07  1.528614e+08  \n",
       "std     943.603546      0.798126     11.221536  4.884795e+07  2.367186e+08  \n",
       "min      10.000000      3.300000   1960.000000  0.000000e+00  0.000000e+00  \n",
       "25%     146.000000      5.700000   1997.000000  6.447637e+06  7.954789e+06  \n",
       "50%     318.000000      6.300000   2006.000000  2.849233e+07  7.054186e+07  \n",
       "75%     728.500000      6.800000   2012.000000  6.418058e+07  1.912459e+08  \n",
       "max    9767.000000      8.400000   2015.000000  3.683713e+08  2.827124e+09  "
      ]
     },
     "execution_count": 46,
     "metadata": {},
     "output_type": "execute_result"
    }
   ],
   "source": [
    "top_popularity = df.query('popularity > popularity.mean()')\n",
    "top_popularity.describe()"
   ]
  },
  {
   "cell_type": "markdown",
   "metadata": {},
   "source": [
    "Observation:\n",
    "The above statistical information is of the movies that have been better than the movies that have average popularity ranking.\n",
    "Hence the count of such movies are of 3023.\n",
    "The maximum popyularity ranking a movie can get is 32.98. Maximum of such movies have 119 minutes of runtime."
   ]
  },
  {
   "cell_type": "markdown",
   "metadata": {},
   "source": [
    "# Question 3 What has been the budget trends over the years? Did it increase or decrease over the years?"
   ]
  },
  {
   "cell_type": "code",
   "execution_count": 47,
   "metadata": {},
   "outputs": [
    {
     "data": {
      "text/plain": [
       "<matplotlib.axes._subplots.AxesSubplot at 0x23490804470>"
      ]
     },
     "execution_count": 47,
     "metadata": {},
     "output_type": "execute_result"
    },
    {
     "data": {
      "image/png": "[encoded data removed]",
      "text/plain": [
       "<Figure size 432x288 with 1 Axes>"
      ]
     },
     "metadata": {},
     "output_type": "display_data"
    }
   ],
   "source": [
    "df_budget_year = df.groupby(['release_year'])['budget'].count()\n",
    "df_budget_year.plot()"
   ]
  },
  {
   "cell_type": "markdown",
   "metadata": {},
   "source": [
    "Observation: As the years passed the budget of the films increased after year 2000 there was a rise in the budget. You acn see a slight drop post 2011."
   ]
  },
  {
   "cell_type": "markdown",
   "metadata": {},
   "source": [
    "# Question 4 How does popularity change over the years, how is its trend over the years?"
   ]
  },
  {
   "cell_type": "code",
   "execution_count": 48,
   "metadata": {},
   "outputs": [
    {
     "data": {
      "text/plain": [
       "release_year\n",
       "2011    0.685607\n",
       "2012    0.620326\n",
       "2013    0.639309\n",
       "2014    0.910027\n",
       "2015    1.055081\n",
       "Name: popularity, dtype: float64"
      ]
     },
     "execution_count": 48,
     "metadata": {},
     "output_type": "execute_result"
    }
   ],
   "source": [
    "# to compute the mean for popularity by release year.\n",
    "popularity_mean = df.groupby('release_year').mean()['popularity']\n",
    "popularity_mean.tail()"
   ]
  },
  {
   "cell_type": "code",
   "execution_count": 49,
   "metadata": {},
   "outputs": [
    {
     "data": {
      "text/plain": [
       "release_year\n",
       "2011    0.420930\n",
       "2012    0.344263\n",
       "2013    0.356506\n",
       "2014    0.383337\n",
       "2015    0.407396\n",
       "Name: popularity, dtype: float64"
      ]
     },
     "execution_count": 49,
     "metadata": {},
     "output_type": "execute_result"
    }
   ],
   "source": [
    "popularity_median = df.groupby('release_year').median()['popularity']\n",
    "popularity_median.tail()"
   ]
  },
  {
   "cell_type": "markdown",
   "metadata": {},
   "source": [
    "Observation: By this we can understand the median of the popularity over the years. There was a drop in the median popularity of the films post 2011 and pre 2015."
   ]
  },
  {
   "cell_type": "markdown",
   "metadata": {},
   "source": [
    "Let us visualize it."
   ]
  },
  {
   "cell_type": "code",
   "execution_count": 50,
   "metadata": {},
   "outputs": [],
   "source": [
    "index_mean = popularity_mean.index\n",
    "index_median = popularity_median.index"
   ]
  },
  {
   "cell_type": "code",
   "execution_count": 51,
   "metadata": {},
   "outputs": [
    {
     "data": {
      "text/plain": [
       "<matplotlib.legend.Legend at 0x2348e028160>"
      ]
     },
     "execution_count": 51,
     "metadata": {},
     "output_type": "execute_result"
    },
    {
     "data": {
      "image/png": "[encoded data removed]",
      "text/plain": [
       "<Figure size 720x432 with 1 Axes>"
      ]
     },
     "metadata": {},
     "output_type": "display_data"
    }
   ],
   "source": [
    "sns.set_style('whitegrid')\n",
    "#set x, y axis data\n",
    "#x1, y1 for mean data; x2, y2 for median data\n",
    "x1, y1 = index_mean, popularity_mean\n",
    "x2, y2 = index_median, popularity_median\n",
    "#set size\n",
    "plt.figure(figsize=(10,6))\n",
    "#plot line chart for mean and median\n",
    "plt.plot(x1, y1, color = 'g', label = 'mean')\n",
    "plt.plot(x2, y2, color = 'b', label = 'median')\n",
    "#set title and labels\n",
    "plt.title('Popularity Over Years')\n",
    "plt.xlabel('Year')\n",
    "plt.ylabel('Popularity');\n",
    "#set legend\n",
    "plt.legend(loc='upper left')"
   ]
  },
  {
   "cell_type": "markdown",
   "metadata": {},
   "source": [
    "Observation: Through the graph we can understand that the the mean popularity has been increasing year to year and it was highest, i.e. it's peak was in 2015. The average popularity of the movies have been on high trend since past few years.\n"
   ]
  },
  {
   "cell_type": "markdown",
   "metadata": {},
   "source": [
    "# Question 5 Which are the movies that got highest and lowest vote average?"
   ]
  },
  {
   "cell_type": "code",
   "execution_count": 52,
   "metadata": {},
   "outputs": [
    {
     "data": {
      "text/plain": [
       "count    10703.000000\n",
       "mean         5.966112\n",
       "std          0.930155\n",
       "min          1.500000\n",
       "25%          5.400000\n",
       "50%          6.000000\n",
       "75%          6.600000\n",
       "max          9.200000\n",
       "Name: vote_average, dtype: float64"
      ]
     },
     "execution_count": 52,
     "metadata": {},
     "output_type": "execute_result"
    }
   ],
   "source": [
    "df.describe().vote_average"
   ]
  },
  {
   "cell_type": "code",
   "execution_count": 53,
   "metadata": {},
   "outputs": [],
   "source": [
    "bin_edges = [1.50, 5.40, 6.0, 6.60, 9.20]"
   ]
  },
  {
   "cell_type": "code",
   "execution_count": 54,
   "metadata": {},
   "outputs": [],
   "source": [
    "bin_names = ['low', 'medium', 'medium-high', 'high']"
   ]
  },
  {
   "cell_type": "code",
   "execution_count": 55,
   "metadata": {},
   "outputs": [],
   "source": [
    "df['vote_rating'] = pd.cut(df['vote_average'], bin_edges, labels=bin_names)"
   ]
  },
  {
   "cell_type": "code",
   "execution_count": 56,
   "metadata": {},
   "outputs": [
    {
     "data": {
      "text/html": [
       "<div>\n",
       "<style scoped>\n",
       "    .dataframe tbody tr th:only-of-type {\n",
       "        vertical-align: middle;\n",
       "    }\n",
       "\n",
       "    .dataframe tbody tr th {\n",
       "        vertical-align: top;\n",
       "    }\n",
       "\n",
       "    .dataframe thead th {\n",
       "        text-align: right;\n",
       "    }\n",
       "</style>\n",
       "<table border=\"1\" class=\"dataframe\">\n",
       "  <thead>\n",
       "    <tr style=\"text-align: right;\">\n",
       "      <th></th>\n",
       "      <th>id</th>\n",
       "      <th>popularity</th>\n",
       "      <th>budget</th>\n",
       "      <th>revenue</th>\n",
       "      <th>original_title</th>\n",
       "      <th>cast</th>\n",
       "      <th>director</th>\n",
       "      <th>runtime</th>\n",
       "      <th>genres</th>\n",
       "      <th>production_companies</th>\n",
       "      <th>release_date</th>\n",
       "      <th>vote_count</th>\n",
       "      <th>vote_average</th>\n",
       "      <th>release_year</th>\n",
       "      <th>budget_adj</th>\n",
       "      <th>revenue_adj</th>\n",
       "      <th>vote_rating</th>\n",
       "    </tr>\n",
       "  </thead>\n",
       "  <tbody>\n",
       "    <tr>\n",
       "      <th>0</th>\n",
       "      <td>135397</td>\n",
       "      <td>32.985763</td>\n",
       "      <td>150000000.0</td>\n",
       "      <td>1.513529e+09</td>\n",
       "      <td>Jurassic World</td>\n",
       "      <td>Chris Pratt|Bryce Dallas Howard|Irrfan Khan|Vi...</td>\n",
       "      <td>Colin Trevorrow</td>\n",
       "      <td>124</td>\n",
       "      <td>Action|Adventure|Science Fiction|Thriller</td>\n",
       "      <td>Universal Studios|Amblin Entertainment|Legenda...</td>\n",
       "      <td>6/9/2015</td>\n",
       "      <td>5562</td>\n",
       "      <td>6.5</td>\n",
       "      <td>2015</td>\n",
       "      <td>137999939.3</td>\n",
       "      <td>1.392446e+09</td>\n",
       "      <td>medium-high</td>\n",
       "    </tr>\n",
       "    <tr>\n",
       "      <th>1</th>\n",
       "      <td>76341</td>\n",
       "      <td>28.419936</td>\n",
       "      <td>150000000.0</td>\n",
       "      <td>3.784364e+08</td>\n",
       "      <td>Mad Max: Fury Road</td>\n",
       "      <td>Tom Hardy|Charlize Theron|Hugh Keays-Byrne|Nic...</td>\n",
       "      <td>George Miller</td>\n",
       "      <td>120</td>\n",
       "      <td>Action|Adventure|Science Fiction|Thriller</td>\n",
       "      <td>Village Roadshow Pictures|Kennedy Miller Produ...</td>\n",
       "      <td>5/13/2015</td>\n",
       "      <td>6185</td>\n",
       "      <td>7.1</td>\n",
       "      <td>2015</td>\n",
       "      <td>137999939.3</td>\n",
       "      <td>3.481613e+08</td>\n",
       "      <td>high</td>\n",
       "    </tr>\n",
       "    <tr>\n",
       "      <th>2</th>\n",
       "      <td>262500</td>\n",
       "      <td>13.112507</td>\n",
       "      <td>110000000.0</td>\n",
       "      <td>2.952382e+08</td>\n",
       "      <td>Insurgent</td>\n",
       "      <td>Shailene Woodley|Theo James|Kate Winslet|Ansel...</td>\n",
       "      <td>Robert Schwentke</td>\n",
       "      <td>119</td>\n",
       "      <td>Adventure|Science Fiction|Thriller</td>\n",
       "      <td>Summit Entertainment|Mandeville Films|Red Wago...</td>\n",
       "      <td>3/18/2015</td>\n",
       "      <td>2480</td>\n",
       "      <td>6.3</td>\n",
       "      <td>2015</td>\n",
       "      <td>101199955.5</td>\n",
       "      <td>2.716190e+08</td>\n",
       "      <td>medium-high</td>\n",
       "    </tr>\n",
       "    <tr>\n",
       "      <th>3</th>\n",
       "      <td>140607</td>\n",
       "      <td>11.173104</td>\n",
       "      <td>200000000.0</td>\n",
       "      <td>2.068178e+09</td>\n",
       "      <td>Star Wars: The Force Awakens</td>\n",
       "      <td>Harrison Ford|Mark Hamill|Carrie Fisher|Adam D...</td>\n",
       "      <td>J.J. Abrams</td>\n",
       "      <td>136</td>\n",
       "      <td>Action|Adventure|Science Fiction|Fantasy</td>\n",
       "      <td>Lucasfilm|Truenorth Productions|Bad Robot</td>\n",
       "      <td>12/15/2015</td>\n",
       "      <td>5292</td>\n",
       "      <td>7.5</td>\n",
       "      <td>2015</td>\n",
       "      <td>183999919.0</td>\n",
       "      <td>1.902723e+09</td>\n",
       "      <td>high</td>\n",
       "    </tr>\n",
       "    <tr>\n",
       "      <th>4</th>\n",
       "      <td>168259</td>\n",
       "      <td>9.335014</td>\n",
       "      <td>190000000.0</td>\n",
       "      <td>1.506249e+09</td>\n",
       "      <td>Furious 7</td>\n",
       "      <td>Vin Diesel|Paul Walker|Jason Statham|Michelle ...</td>\n",
       "      <td>James Wan</td>\n",
       "      <td>137</td>\n",
       "      <td>Action|Crime|Thriller</td>\n",
       "      <td>Universal Pictures|Original Film|Media Rights ...</td>\n",
       "      <td>4/1/2015</td>\n",
       "      <td>2947</td>\n",
       "      <td>7.3</td>\n",
       "      <td>2015</td>\n",
       "      <td>174799923.1</td>\n",
       "      <td>1.385749e+09</td>\n",
       "      <td>high</td>\n",
       "    </tr>\n",
       "  </tbody>\n",
       "</table>\n",
       "</div>"
      ],
      "text/plain": [
       "       id  popularity       budget       revenue  \\\n",
       "0  135397   32.985763  150000000.0  1.513529e+09   \n",
       "1   76341   28.419936  150000000.0  3.784364e+08   \n",
       "2  262500   13.112507  110000000.0  2.952382e+08   \n",
       "3  140607   11.173104  200000000.0  2.068178e+09   \n",
       "4  168259    9.335014  190000000.0  1.506249e+09   \n",
       "\n",
       "                 original_title  \\\n",
       "0                Jurassic World   \n",
       "1            Mad Max: Fury Road   \n",
       "2                     Insurgent   \n",
       "3  Star Wars: The Force Awakens   \n",
       "4                     Furious 7   \n",
       "\n",
       "                                                cast          director  \\\n",
       "0  Chris Pratt|Bryce Dallas Howard|Irrfan Khan|Vi...   Colin Trevorrow   \n",
       "1  Tom Hardy|Charlize Theron|Hugh Keays-Byrne|Nic...     George Miller   \n",
       "2  Shailene Woodley|Theo James|Kate Winslet|Ansel...  Robert Schwentke   \n",
       "3  Harrison Ford|Mark Hamill|Carrie Fisher|Adam D...       J.J. Abrams   \n",
       "4  Vin Diesel|Paul Walker|Jason Statham|Michelle ...         James Wan   \n",
       "\n",
       "   runtime                                     genres  \\\n",
       "0      124  Action|Adventure|Science Fiction|Thriller   \n",
       "1      120  Action|Adventure|Science Fiction|Thriller   \n",
       "2      119         Adventure|Science Fiction|Thriller   \n",
       "3      136   Action|Adventure|Science Fiction|Fantasy   \n",
       "4      137                      Action|Crime|Thriller   \n",
       "\n",
       "                                production_companies release_date  vote_count  \\\n",
       "0  Universal Studios|Amblin Entertainment|Legenda...     6/9/2015        5562   \n",
       "1  Village Roadshow Pictures|Kennedy Miller Produ...    5/13/2015        6185   \n",
       "2  Summit Entertainment|Mandeville Films|Red Wago...    3/18/2015        2480   \n",
       "3          Lucasfilm|Truenorth Productions|Bad Robot   12/15/2015        5292   \n",
       "4  Universal Pictures|Original Film|Media Rights ...     4/1/2015        2947   \n",
       "\n",
       "   vote_average  release_year   budget_adj   revenue_adj  vote_rating  \n",
       "0           6.5          2015  137999939.3  1.392446e+09  medium-high  \n",
       "1           7.1          2015  137999939.3  3.481613e+08         high  \n",
       "2           6.3          2015  101199955.5  2.716190e+08  medium-high  \n",
       "3           7.5          2015  183999919.0  1.902723e+09         high  \n",
       "4           7.3          2015  174799923.1  1.385749e+09         high  "
      ]
     },
     "execution_count": 56,
     "metadata": {},
     "output_type": "execute_result"
    }
   ],
   "source": [
    "df.head()"
   ]
  },
  {
   "cell_type": "code",
   "execution_count": 67,
   "metadata": {},
   "outputs": [
    {
     "data": {
      "text/html": [
       "<div>\n",
       "<style scoped>\n",
       "    .dataframe tbody tr th:only-of-type {\n",
       "        vertical-align: middle;\n",
       "    }\n",
       "\n",
       "    .dataframe tbody tr th {\n",
       "        vertical-align: top;\n",
       "    }\n",
       "\n",
       "    .dataframe thead th {\n",
       "        text-align: right;\n",
       "    }\n",
       "</style>\n",
       "<table border=\"1\" class=\"dataframe\">\n",
       "  <thead>\n",
       "    <tr style=\"text-align: right;\">\n",
       "      <th></th>\n",
       "      <th></th>\n",
       "      <th>id</th>\n",
       "      <th>popularity</th>\n",
       "      <th>budget</th>\n",
       "      <th>revenue</th>\n",
       "      <th>runtime</th>\n",
       "      <th>vote_count</th>\n",
       "      <th>vote_average</th>\n",
       "      <th>budget_adj</th>\n",
       "      <th>revenue_adj</th>\n",
       "    </tr>\n",
       "    <tr>\n",
       "      <th>vote_rating</th>\n",
       "      <th>release_year</th>\n",
       "      <th></th>\n",
       "      <th></th>\n",
       "      <th></th>\n",
       "      <th></th>\n",
       "      <th></th>\n",
       "      <th></th>\n",
       "      <th></th>\n",
       "      <th></th>\n",
       "      <th></th>\n",
       "    </tr>\n",
       "  </thead>\n",
       "  <tbody>\n",
       "    <tr>\n",
       "      <th rowspan=\"20\" valign=\"top\">high</th>\n",
       "      <th>1996</th>\n",
       "      <td>10884.0</td>\n",
       "      <td>0.477065</td>\n",
       "      <td>14000000.0</td>\n",
       "      <td>33459416.0</td>\n",
       "      <td>108.0</td>\n",
       "      <td>48.0</td>\n",
       "      <td>6.90</td>\n",
       "      <td>2.754055e+06</td>\n",
       "      <td>2.895903e+06</td>\n",
       "    </tr>\n",
       "    <tr>\n",
       "      <th>1997</th>\n",
       "      <td>9338.5</td>\n",
       "      <td>0.801619</td>\n",
       "      <td>35000000.0</td>\n",
       "      <td>51550797.0</td>\n",
       "      <td>120.0</td>\n",
       "      <td>245.0</td>\n",
       "      <td>7.00</td>\n",
       "      <td>2.377306e+07</td>\n",
       "      <td>1.667785e+07</td>\n",
       "    </tr>\n",
       "    <tr>\n",
       "      <th>1998</th>\n",
       "      <td>9631.0</td>\n",
       "      <td>0.653163</td>\n",
       "      <td>26000000.0</td>\n",
       "      <td>44547681.0</td>\n",
       "      <td>110.0</td>\n",
       "      <td>151.0</td>\n",
       "      <td>6.90</td>\n",
       "      <td>2.006543e+06</td>\n",
       "      <td>3.177156e+06</td>\n",
       "    </tr>\n",
       "    <tr>\n",
       "      <th>1999</th>\n",
       "      <td>9518.0</td>\n",
       "      <td>0.615841</td>\n",
       "      <td>32000000.0</td>\n",
       "      <td>67123076.5</td>\n",
       "      <td>110.0</td>\n",
       "      <td>169.0</td>\n",
       "      <td>7.10</td>\n",
       "      <td>1.257345e+07</td>\n",
       "      <td>1.436684e+07</td>\n",
       "    </tr>\n",
       "    <tr>\n",
       "      <th>2000</th>\n",
       "      <td>10598.5</td>\n",
       "      <td>0.599626</td>\n",
       "      <td>30000000.0</td>\n",
       "      <td>69553122.5</td>\n",
       "      <td>109.0</td>\n",
       "      <td>175.5</td>\n",
       "      <td>7.15</td>\n",
       "      <td>7.597753e+06</td>\n",
       "      <td>2.844665e+07</td>\n",
       "    </tr>\n",
       "    <tr>\n",
       "      <th>2001</th>\n",
       "      <td>6311.0</td>\n",
       "      <td>0.703831</td>\n",
       "      <td>48000000.0</td>\n",
       "      <td>85498060.5</td>\n",
       "      <td>117.5</td>\n",
       "      <td>214.0</td>\n",
       "      <td>7.10</td>\n",
       "      <td>1.600935e+07</td>\n",
       "      <td>2.377369e+07</td>\n",
       "    </tr>\n",
       "    <tr>\n",
       "      <th>2002</th>\n",
       "      <td>9045.0</td>\n",
       "      <td>0.557277</td>\n",
       "      <td>25000000.0</td>\n",
       "      <td>82719885.0</td>\n",
       "      <td>110.0</td>\n",
       "      <td>70.0</td>\n",
       "      <td>7.00</td>\n",
       "      <td>6.061307e+06</td>\n",
       "      <td>1.119823e+07</td>\n",
       "    </tr>\n",
       "    <tr>\n",
       "      <th>2003</th>\n",
       "      <td>10615.0</td>\n",
       "      <td>0.405341</td>\n",
       "      <td>27440000.0</td>\n",
       "      <td>56328034.5</td>\n",
       "      <td>106.0</td>\n",
       "      <td>62.5</td>\n",
       "      <td>7.10</td>\n",
       "      <td>2.963441e+05</td>\n",
       "      <td>8.186111e+06</td>\n",
       "    </tr>\n",
       "    <tr>\n",
       "      <th>2004</th>\n",
       "      <td>10625.0</td>\n",
       "      <td>0.429419</td>\n",
       "      <td>25000000.0</td>\n",
       "      <td>81416157.0</td>\n",
       "      <td>107.0</td>\n",
       "      <td>82.0</td>\n",
       "      <td>7.00</td>\n",
       "      <td>2.308891e+06</td>\n",
       "      <td>1.687786e+06</td>\n",
       "    </tr>\n",
       "    <tr>\n",
       "      <th>2005</th>\n",
       "      <td>9390.0</td>\n",
       "      <td>0.435692</td>\n",
       "      <td>15000000.0</td>\n",
       "      <td>24127895.0</td>\n",
       "      <td>108.0</td>\n",
       "      <td>75.5</td>\n",
       "      <td>7.00</td>\n",
       "      <td>2.791408e+06</td>\n",
       "      <td>3.267218e+06</td>\n",
       "    </tr>\n",
       "    <tr>\n",
       "      <th>2006</th>\n",
       "      <td>11656.5</td>\n",
       "      <td>0.366273</td>\n",
       "      <td>26000000.0</td>\n",
       "      <td>42647449.0</td>\n",
       "      <td>111.5</td>\n",
       "      <td>57.5</td>\n",
       "      <td>7.00</td>\n",
       "      <td>0.000000e+00</td>\n",
       "      <td>5.931149e+05</td>\n",
       "    </tr>\n",
       "    <tr>\n",
       "      <th>2007</th>\n",
       "      <td>7917.0</td>\n",
       "      <td>0.479267</td>\n",
       "      <td>20000000.0</td>\n",
       "      <td>55112356.0</td>\n",
       "      <td>102.0</td>\n",
       "      <td>67.5</td>\n",
       "      <td>7.00</td>\n",
       "      <td>3.155006e+06</td>\n",
       "      <td>8.164902e+05</td>\n",
       "    </tr>\n",
       "    <tr>\n",
       "      <th>2008</th>\n",
       "      <td>13851.0</td>\n",
       "      <td>0.361308</td>\n",
       "      <td>15000000.0</td>\n",
       "      <td>32729427.5</td>\n",
       "      <td>101.0</td>\n",
       "      <td>53.0</td>\n",
       "      <td>7.10</td>\n",
       "      <td>0.000000e+00</td>\n",
       "      <td>0.000000e+00</td>\n",
       "    </tr>\n",
       "    <tr>\n",
       "      <th>2009</th>\n",
       "      <td>23128.0</td>\n",
       "      <td>0.430617</td>\n",
       "      <td>25000000.0</td>\n",
       "      <td>47136206.0</td>\n",
       "      <td>98.0</td>\n",
       "      <td>63.0</td>\n",
       "      <td>7.10</td>\n",
       "      <td>0.000000e+00</td>\n",
       "      <td>0.000000e+00</td>\n",
       "    </tr>\n",
       "    <tr>\n",
       "      <th>2010</th>\n",
       "      <td>44639.0</td>\n",
       "      <td>0.400305</td>\n",
       "      <td>15000000.0</td>\n",
       "      <td>9455232.0</td>\n",
       "      <td>103.0</td>\n",
       "      <td>53.0</td>\n",
       "      <td>7.10</td>\n",
       "      <td>0.000000e+00</td>\n",
       "      <td>0.000000e+00</td>\n",
       "    </tr>\n",
       "    <tr>\n",
       "      <th>2011</th>\n",
       "      <td>69891.0</td>\n",
       "      <td>0.352084</td>\n",
       "      <td>12915586.5</td>\n",
       "      <td>23057115.0</td>\n",
       "      <td>99.0</td>\n",
       "      <td>45.0</td>\n",
       "      <td>7.00</td>\n",
       "      <td>0.000000e+00</td>\n",
       "      <td>0.000000e+00</td>\n",
       "    </tr>\n",
       "    <tr>\n",
       "      <th>2012</th>\n",
       "      <td>96399.0</td>\n",
       "      <td>0.316117</td>\n",
       "      <td>21000000.0</td>\n",
       "      <td>48126384.0</td>\n",
       "      <td>103.0</td>\n",
       "      <td>61.0</td>\n",
       "      <td>7.10</td>\n",
       "      <td>0.000000e+00</td>\n",
       "      <td>0.000000e+00</td>\n",
       "    </tr>\n",
       "    <tr>\n",
       "      <th>2013</th>\n",
       "      <td>172520.0</td>\n",
       "      <td>0.374148</td>\n",
       "      <td>20000000.0</td>\n",
       "      <td>81843382.5</td>\n",
       "      <td>101.0</td>\n",
       "      <td>77.0</td>\n",
       "      <td>7.10</td>\n",
       "      <td>0.000000e+00</td>\n",
       "      <td>0.000000e+00</td>\n",
       "    </tr>\n",
       "    <tr>\n",
       "      <th>2014</th>\n",
       "      <td>250650.0</td>\n",
       "      <td>0.380595</td>\n",
       "      <td>22250000.0</td>\n",
       "      <td>52424533.0</td>\n",
       "      <td>102.0</td>\n",
       "      <td>77.5</td>\n",
       "      <td>7.20</td>\n",
       "      <td>0.000000e+00</td>\n",
       "      <td>0.000000e+00</td>\n",
       "    </tr>\n",
       "    <tr>\n",
       "      <th>2015</th>\n",
       "      <td>309299.0</td>\n",
       "      <td>0.476341</td>\n",
       "      <td>25000000.0</td>\n",
       "      <td>60440971.0</td>\n",
       "      <td>103.0</td>\n",
       "      <td>86.0</td>\n",
       "      <td>7.20</td>\n",
       "      <td>0.000000e+00</td>\n",
       "      <td>0.000000e+00</td>\n",
       "    </tr>\n",
       "  </tbody>\n",
       "</table>\n",
       "</div>"
      ],
      "text/plain": [
       "                                id  popularity      budget     revenue  \\\n",
       "vote_rating release_year                                                 \n",
       "high        1996           10884.0    0.477065  14000000.0  33459416.0   \n",
       "            1997            9338.5    0.801619  35000000.0  51550797.0   \n",
       "            1998            9631.0    0.653163  26000000.0  44547681.0   \n",
       "            1999            9518.0    0.615841  32000000.0  67123076.5   \n",
       "            2000           10598.5    0.599626  30000000.0  69553122.5   \n",
       "            2001            6311.0    0.703831  48000000.0  85498060.5   \n",
       "            2002            9045.0    0.557277  25000000.0  82719885.0   \n",
       "            2003           10615.0    0.405341  27440000.0  56328034.5   \n",
       "            2004           10625.0    0.429419  25000000.0  81416157.0   \n",
       "            2005            9390.0    0.435692  15000000.0  24127895.0   \n",
       "            2006           11656.5    0.366273  26000000.0  42647449.0   \n",
       "            2007            7917.0    0.479267  20000000.0  55112356.0   \n",
       "            2008           13851.0    0.361308  15000000.0  32729427.5   \n",
       "            2009           23128.0    0.430617  25000000.0  47136206.0   \n",
       "            2010           44639.0    0.400305  15000000.0   9455232.0   \n",
       "            2011           69891.0    0.352084  12915586.5  23057115.0   \n",
       "            2012           96399.0    0.316117  21000000.0  48126384.0   \n",
       "            2013          172520.0    0.374148  20000000.0  81843382.5   \n",
       "            2014          250650.0    0.380595  22250000.0  52424533.0   \n",
       "            2015          309299.0    0.476341  25000000.0  60440971.0   \n",
       "\n",
       "                          runtime  vote_count  vote_average    budget_adj  \\\n",
       "vote_rating release_year                                                    \n",
       "high        1996            108.0        48.0          6.90  2.754055e+06   \n",
       "            1997            120.0       245.0          7.00  2.377306e+07   \n",
       "            1998            110.0       151.0          6.90  2.006543e+06   \n",
       "            1999            110.0       169.0          7.10  1.257345e+07   \n",
       "            2000            109.0       175.5          7.15  7.597753e+06   \n",
       "            2001            117.5       214.0          7.10  1.600935e+07   \n",
       "            2002            110.0        70.0          7.00  6.061307e+06   \n",
       "            2003            106.0        62.5          7.10  2.963441e+05   \n",
       "            2004            107.0        82.0          7.00  2.308891e+06   \n",
       "            2005            108.0        75.5          7.00  2.791408e+06   \n",
       "            2006            111.5        57.5          7.00  0.000000e+00   \n",
       "            2007            102.0        67.5          7.00  3.155006e+06   \n",
       "            2008            101.0        53.0          7.10  0.000000e+00   \n",
       "            2009             98.0        63.0          7.10  0.000000e+00   \n",
       "            2010            103.0        53.0          7.10  0.000000e+00   \n",
       "            2011             99.0        45.0          7.00  0.000000e+00   \n",
       "            2012            103.0        61.0          7.10  0.000000e+00   \n",
       "            2013            101.0        77.0          7.10  0.000000e+00   \n",
       "            2014            102.0        77.5          7.20  0.000000e+00   \n",
       "            2015            103.0        86.0          7.20  0.000000e+00   \n",
       "\n",
       "                           revenue_adj  \n",
       "vote_rating release_year                \n",
       "high        1996          2.895903e+06  \n",
       "            1997          1.667785e+07  \n",
       "            1998          3.177156e+06  \n",
       "            1999          1.436684e+07  \n",
       "            2000          2.844665e+07  \n",
       "            2001          2.377369e+07  \n",
       "            2002          1.119823e+07  \n",
       "            2003          8.186111e+06  \n",
       "            2004          1.687786e+06  \n",
       "            2005          3.267218e+06  \n",
       "            2006          5.931149e+05  \n",
       "            2007          8.164902e+05  \n",
       "            2008          0.000000e+00  \n",
       "            2009          0.000000e+00  \n",
       "            2010          0.000000e+00  \n",
       "            2011          0.000000e+00  \n",
       "            2012          0.000000e+00  \n",
       "            2013          0.000000e+00  \n",
       "            2014          0.000000e+00  \n",
       "            2015          0.000000e+00  "
      ]
     },
     "execution_count": 67,
     "metadata": {},
     "output_type": "execute_result"
    }
   ],
   "source": [
    "bin_names = df.groupby(['vote_rating','release_year']).median()\n",
    "bin_names.tail(20)"
   ]
  },
  {
   "cell_type": "markdown",
   "metadata": {},
   "source": [
    "Observation: So by this we can see the movies as per their id to know the movies with vote rating as 'High' to understand which are those movies and other factors associated to them. The movie in 2015 got highest vote average."
   ]
  },
  {
   "cell_type": "code",
   "execution_count": 69,
   "metadata": {},
   "outputs": [
    {
     "data": {
      "text/plain": [
       "vote_rating\n",
       "low            0.422286\n",
       "medium         0.559951\n",
       "medium-high    0.710686\n",
       "high           0.956951\n",
       "Name: popularity, dtype: float64"
      ]
     },
     "execution_count": 69,
     "metadata": {},
     "output_type": "execute_result"
    }
   ],
   "source": [
    "result_mean = df.groupby('vote_rating')['popularity'].mean()\n",
    "result_mean"
   ]
  },
  {
   "cell_type": "code",
   "execution_count": 70,
   "metadata": {},
   "outputs": [
    {
     "data": {
      "text/plain": [
       "array([0, 1, 2, 3])"
      ]
     },
     "execution_count": 70,
     "metadata": {},
     "output_type": "execute_result"
    }
   ],
   "source": [
    "vote = np.arange(len(result_mean))  \n",
    "# the width of the bars\n",
    "width = 1.0       \n",
    "vote"
   ]
  },
  {
   "cell_type": "code",
   "execution_count": 74,
   "metadata": {},
   "outputs": [
    {
     "data": {
      "text/plain": [
       "<matplotlib.legend.Legend at 0x2348ddbd128>"
      ]
     },
     "execution_count": 74,
     "metadata": {},
     "output_type": "execute_result"
    },
    {
     "data": {
      "image/png": "[encoded data removed]",
      "text/plain": [
       "<Figure size 432x288 with 1 Axes>"
      ]
     },
     "metadata": {},
     "output_type": "display_data"
    }
   ],
   "source": [
    "# plot bars\n",
    "#set style\n",
    "sns.set_style('darkgrid')\n",
    "bars = plt.bar(vote, result_mean, width, color='r', alpha=.10, label='mean')\n",
    "\n",
    "# title and labels\n",
    "plt.ylabel('popularity')\n",
    "plt.xlabel('vote rating')\n",
    "plt.title('Popularity with vote rating')\n",
    "locations = vote  # xtick locations，345...\n",
    "labels = result_mean.index  \n",
    "plt.xticks(locations, labels)\n",
    "# legend\n",
    "plt.legend()"
   ]
  },
  {
   "cell_type": "markdown",
   "metadata": {},
   "source": [
    "Observation: We can undertand by ths bar graph that more the vote rating more is the popularity. This is so obvious more votes that a movie gets through facebook or other means of survey more popular it becomes as more people go to watch it."
   ]
  },
  {
   "cell_type": "code",
   "execution_count": 77,
   "metadata": {},
   "outputs": [
    {
     "data": {
      "text/html": [
       "<div>\n",
       "<style scoped>\n",
       "    .dataframe tbody tr th:only-of-type {\n",
       "        vertical-align: middle;\n",
       "    }\n",
       "\n",
       "    .dataframe tbody tr th {\n",
       "        vertical-align: top;\n",
       "    }\n",
       "\n",
       "    .dataframe thead th {\n",
       "        text-align: right;\n",
       "    }\n",
       "</style>\n",
       "<table border=\"1\" class=\"dataframe\">\n",
       "  <thead>\n",
       "    <tr style=\"text-align: right;\">\n",
       "      <th></th>\n",
       "      <th>id</th>\n",
       "      <th>popularity</th>\n",
       "      <th>budget</th>\n",
       "      <th>revenue</th>\n",
       "      <th>original_title</th>\n",
       "      <th>cast</th>\n",
       "      <th>director</th>\n",
       "      <th>runtime</th>\n",
       "      <th>genres</th>\n",
       "      <th>production_companies</th>\n",
       "      <th>release_date</th>\n",
       "      <th>vote_count</th>\n",
       "      <th>vote_average</th>\n",
       "      <th>release_year</th>\n",
       "      <th>budget_adj</th>\n",
       "      <th>revenue_adj</th>\n",
       "      <th>vote_rating</th>\n",
       "    </tr>\n",
       "  </thead>\n",
       "  <tbody>\n",
       "    <tr>\n",
       "      <th>1</th>\n",
       "      <td>76341</td>\n",
       "      <td>28.419936</td>\n",
       "      <td>150000000.0</td>\n",
       "      <td>3.784364e+08</td>\n",
       "      <td>Mad Max: Fury Road</td>\n",
       "      <td>Tom Hardy|Charlize Theron|Hugh Keays-Byrne|Nic...</td>\n",
       "      <td>George Miller</td>\n",
       "      <td>120</td>\n",
       "      <td>Action|Adventure|Science Fiction|Thriller</td>\n",
       "      <td>Village Roadshow Pictures|Kennedy Miller Produ...</td>\n",
       "      <td>5/13/2015</td>\n",
       "      <td>6185</td>\n",
       "      <td>7.1</td>\n",
       "      <td>2015</td>\n",
       "      <td>1.379999e+08</td>\n",
       "      <td>3.481613e+08</td>\n",
       "      <td>high</td>\n",
       "    </tr>\n",
       "    <tr>\n",
       "      <th>3</th>\n",
       "      <td>140607</td>\n",
       "      <td>11.173104</td>\n",
       "      <td>200000000.0</td>\n",
       "      <td>2.068178e+09</td>\n",
       "      <td>Star Wars: The Force Awakens</td>\n",
       "      <td>Harrison Ford|Mark Hamill|Carrie Fisher|Adam D...</td>\n",
       "      <td>J.J. Abrams</td>\n",
       "      <td>136</td>\n",
       "      <td>Action|Adventure|Science Fiction|Fantasy</td>\n",
       "      <td>Lucasfilm|Truenorth Productions|Bad Robot</td>\n",
       "      <td>12/15/2015</td>\n",
       "      <td>5292</td>\n",
       "      <td>7.5</td>\n",
       "      <td>2015</td>\n",
       "      <td>1.839999e+08</td>\n",
       "      <td>1.902723e+09</td>\n",
       "      <td>high</td>\n",
       "    </tr>\n",
       "    <tr>\n",
       "      <th>4</th>\n",
       "      <td>168259</td>\n",
       "      <td>9.335014</td>\n",
       "      <td>190000000.0</td>\n",
       "      <td>1.506249e+09</td>\n",
       "      <td>Furious 7</td>\n",
       "      <td>Vin Diesel|Paul Walker|Jason Statham|Michelle ...</td>\n",
       "      <td>James Wan</td>\n",
       "      <td>137</td>\n",
       "      <td>Action|Crime|Thriller</td>\n",
       "      <td>Universal Pictures|Original Film|Media Rights ...</td>\n",
       "      <td>4/1/2015</td>\n",
       "      <td>2947</td>\n",
       "      <td>7.3</td>\n",
       "      <td>2015</td>\n",
       "      <td>1.747999e+08</td>\n",
       "      <td>1.385749e+09</td>\n",
       "      <td>high</td>\n",
       "    </tr>\n",
       "    <tr>\n",
       "      <th>5</th>\n",
       "      <td>281957</td>\n",
       "      <td>9.110700</td>\n",
       "      <td>135000000.0</td>\n",
       "      <td>5.329505e+08</td>\n",
       "      <td>The Revenant</td>\n",
       "      <td>Leonardo DiCaprio|Tom Hardy|Will Poulter|Domhn...</td>\n",
       "      <td>Alejandro GonzÃ¡lez IÃ±Ã¡rritu</td>\n",
       "      <td>156</td>\n",
       "      <td>Western|Drama|Adventure|Thriller</td>\n",
       "      <td>Regency Enterprises|Appian Way|CatchPlay|Anony...</td>\n",
       "      <td>12/25/2015</td>\n",
       "      <td>3929</td>\n",
       "      <td>7.2</td>\n",
       "      <td>2015</td>\n",
       "      <td>1.241999e+08</td>\n",
       "      <td>4.903142e+08</td>\n",
       "      <td>high</td>\n",
       "    </tr>\n",
       "    <tr>\n",
       "      <th>7</th>\n",
       "      <td>286217</td>\n",
       "      <td>7.667400</td>\n",
       "      <td>108000000.0</td>\n",
       "      <td>5.953803e+08</td>\n",
       "      <td>The Martian</td>\n",
       "      <td>Matt Damon|Jessica Chastain|Kristen Wiig|Jeff ...</td>\n",
       "      <td>Ridley Scott</td>\n",
       "      <td>141</td>\n",
       "      <td>Drama|Adventure|Science Fiction</td>\n",
       "      <td>Twentieth Century Fox Film Corporation|Scott F...</td>\n",
       "      <td>9/30/2015</td>\n",
       "      <td>4572</td>\n",
       "      <td>7.6</td>\n",
       "      <td>2015</td>\n",
       "      <td>9.935996e+07</td>\n",
       "      <td>5.477497e+08</td>\n",
       "      <td>high</td>\n",
       "    </tr>\n",
       "    <tr>\n",
       "      <th>9</th>\n",
       "      <td>150540</td>\n",
       "      <td>6.326804</td>\n",
       "      <td>175000000.0</td>\n",
       "      <td>8.537086e+08</td>\n",
       "      <td>Inside Out</td>\n",
       "      <td>Amy Poehler|Phyllis Smith|Richard Kind|Bill Ha...</td>\n",
       "      <td>Pete Docter</td>\n",
       "      <td>94</td>\n",
       "      <td>Comedy|Animation|Family</td>\n",
       "      <td>Walt Disney Pictures|Pixar Animation Studios|W...</td>\n",
       "      <td>6/9/2015</td>\n",
       "      <td>3935</td>\n",
       "      <td>8.0</td>\n",
       "      <td>2015</td>\n",
       "      <td>1.609999e+08</td>\n",
       "      <td>7.854116e+08</td>\n",
       "      <td>high</td>\n",
       "    </tr>\n",
       "    <tr>\n",
       "      <th>12</th>\n",
       "      <td>264660</td>\n",
       "      <td>6.118847</td>\n",
       "      <td>15000000.0</td>\n",
       "      <td>3.686941e+07</td>\n",
       "      <td>Ex Machina</td>\n",
       "      <td>Domhnall Gleeson|Alicia Vikander|Oscar Isaac|S...</td>\n",
       "      <td>Alex Garland</td>\n",
       "      <td>108</td>\n",
       "      <td>Drama|Science Fiction</td>\n",
       "      <td>DNA Films|Universal Pictures International (UP...</td>\n",
       "      <td>1/21/2015</td>\n",
       "      <td>2854</td>\n",
       "      <td>7.6</td>\n",
       "      <td>2015</td>\n",
       "      <td>1.379999e+07</td>\n",
       "      <td>3.391985e+07</td>\n",
       "      <td>high</td>\n",
       "    </tr>\n",
       "    <tr>\n",
       "      <th>14</th>\n",
       "      <td>99861</td>\n",
       "      <td>5.944927</td>\n",
       "      <td>280000000.0</td>\n",
       "      <td>1.405036e+09</td>\n",
       "      <td>Avengers: Age of Ultron</td>\n",
       "      <td>Robert Downey Jr.|Chris Hemsworth|Mark Ruffalo...</td>\n",
       "      <td>Joss Whedon</td>\n",
       "      <td>141</td>\n",
       "      <td>Action|Adventure|Science Fiction</td>\n",
       "      <td>Marvel Studios|Prime Focus|Revolution Sun Studios</td>\n",
       "      <td>4/22/2015</td>\n",
       "      <td>4304</td>\n",
       "      <td>7.4</td>\n",
       "      <td>2015</td>\n",
       "      <td>2.575999e+08</td>\n",
       "      <td>1.292632e+09</td>\n",
       "      <td>high</td>\n",
       "    </tr>\n",
       "    <tr>\n",
       "      <th>15</th>\n",
       "      <td>273248</td>\n",
       "      <td>5.898400</td>\n",
       "      <td>44000000.0</td>\n",
       "      <td>1.557601e+08</td>\n",
       "      <td>The Hateful Eight</td>\n",
       "      <td>Samuel L. Jackson|Kurt Russell|Jennifer Jason ...</td>\n",
       "      <td>Quentin Tarantino</td>\n",
       "      <td>167</td>\n",
       "      <td>Crime|Drama|Mystery|Western</td>\n",
       "      <td>Double Feature Films|The Weinstein Company|Fil...</td>\n",
       "      <td>12/25/2015</td>\n",
       "      <td>2389</td>\n",
       "      <td>7.4</td>\n",
       "      <td>2015</td>\n",
       "      <td>4.047998e+07</td>\n",
       "      <td>1.432992e+08</td>\n",
       "      <td>high</td>\n",
       "    </tr>\n",
       "    <tr>\n",
       "      <th>17</th>\n",
       "      <td>102899</td>\n",
       "      <td>5.573184</td>\n",
       "      <td>130000000.0</td>\n",
       "      <td>5.186022e+08</td>\n",
       "      <td>Ant-Man</td>\n",
       "      <td>Paul Rudd|Michael Douglas|Evangeline Lilly|Cor...</td>\n",
       "      <td>Peyton Reed</td>\n",
       "      <td>115</td>\n",
       "      <td>Science Fiction|Action|Adventure</td>\n",
       "      <td>Marvel Studios</td>\n",
       "      <td>7/14/2015</td>\n",
       "      <td>3779</td>\n",
       "      <td>7.0</td>\n",
       "      <td>2015</td>\n",
       "      <td>1.195999e+08</td>\n",
       "      <td>4.771138e+08</td>\n",
       "      <td>high</td>\n",
       "    </tr>\n",
       "  </tbody>\n",
       "</table>\n",
       "</div>"
      ],
      "text/plain": [
       "        id  popularity       budget       revenue  \\\n",
       "1    76341   28.419936  150000000.0  3.784364e+08   \n",
       "3   140607   11.173104  200000000.0  2.068178e+09   \n",
       "4   168259    9.335014  190000000.0  1.506249e+09   \n",
       "5   281957    9.110700  135000000.0  5.329505e+08   \n",
       "7   286217    7.667400  108000000.0  5.953803e+08   \n",
       "9   150540    6.326804  175000000.0  8.537086e+08   \n",
       "12  264660    6.118847   15000000.0  3.686941e+07   \n",
       "14   99861    5.944927  280000000.0  1.405036e+09   \n",
       "15  273248    5.898400   44000000.0  1.557601e+08   \n",
       "17  102899    5.573184  130000000.0  5.186022e+08   \n",
       "\n",
       "                  original_title  \\\n",
       "1             Mad Max: Fury Road   \n",
       "3   Star Wars: The Force Awakens   \n",
       "4                      Furious 7   \n",
       "5                   The Revenant   \n",
       "7                    The Martian   \n",
       "9                     Inside Out   \n",
       "12                    Ex Machina   \n",
       "14       Avengers: Age of Ultron   \n",
       "15             The Hateful Eight   \n",
       "17                       Ant-Man   \n",
       "\n",
       "                                                 cast  \\\n",
       "1   Tom Hardy|Charlize Theron|Hugh Keays-Byrne|Nic...   \n",
       "3   Harrison Ford|Mark Hamill|Carrie Fisher|Adam D...   \n",
       "4   Vin Diesel|Paul Walker|Jason Statham|Michelle ...   \n",
       "5   Leonardo DiCaprio|Tom Hardy|Will Poulter|Domhn...   \n",
       "7   Matt Damon|Jessica Chastain|Kristen Wiig|Jeff ...   \n",
       "9   Amy Poehler|Phyllis Smith|Richard Kind|Bill Ha...   \n",
       "12  Domhnall Gleeson|Alicia Vikander|Oscar Isaac|S...   \n",
       "14  Robert Downey Jr.|Chris Hemsworth|Mark Ruffalo...   \n",
       "15  Samuel L. Jackson|Kurt Russell|Jennifer Jason ...   \n",
       "17  Paul Rudd|Michael Douglas|Evangeline Lilly|Cor...   \n",
       "\n",
       "                          director  runtime  \\\n",
       "1                    George Miller      120   \n",
       "3                      J.J. Abrams      136   \n",
       "4                        James Wan      137   \n",
       "5   Alejandro GonzÃ¡lez IÃ±Ã¡rritu      156   \n",
       "7                     Ridley Scott      141   \n",
       "9                      Pete Docter       94   \n",
       "12                    Alex Garland      108   \n",
       "14                     Joss Whedon      141   \n",
       "15               Quentin Tarantino      167   \n",
       "17                     Peyton Reed      115   \n",
       "\n",
       "                                       genres  \\\n",
       "1   Action|Adventure|Science Fiction|Thriller   \n",
       "3    Action|Adventure|Science Fiction|Fantasy   \n",
       "4                       Action|Crime|Thriller   \n",
       "5            Western|Drama|Adventure|Thriller   \n",
       "7             Drama|Adventure|Science Fiction   \n",
       "9                     Comedy|Animation|Family   \n",
       "12                      Drama|Science Fiction   \n",
       "14           Action|Adventure|Science Fiction   \n",
       "15                Crime|Drama|Mystery|Western   \n",
       "17           Science Fiction|Action|Adventure   \n",
       "\n",
       "                                 production_companies release_date  \\\n",
       "1   Village Roadshow Pictures|Kennedy Miller Produ...    5/13/2015   \n",
       "3           Lucasfilm|Truenorth Productions|Bad Robot   12/15/2015   \n",
       "4   Universal Pictures|Original Film|Media Rights ...     4/1/2015   \n",
       "5   Regency Enterprises|Appian Way|CatchPlay|Anony...   12/25/2015   \n",
       "7   Twentieth Century Fox Film Corporation|Scott F...    9/30/2015   \n",
       "9   Walt Disney Pictures|Pixar Animation Studios|W...     6/9/2015   \n",
       "12  DNA Films|Universal Pictures International (UP...    1/21/2015   \n",
       "14  Marvel Studios|Prime Focus|Revolution Sun Studios    4/22/2015   \n",
       "15  Double Feature Films|The Weinstein Company|Fil...   12/25/2015   \n",
       "17                                     Marvel Studios    7/14/2015   \n",
       "\n",
       "    vote_count  vote_average  release_year    budget_adj   revenue_adj  \\\n",
       "1         6185           7.1          2015  1.379999e+08  3.481613e+08   \n",
       "3         5292           7.5          2015  1.839999e+08  1.902723e+09   \n",
       "4         2947           7.3          2015  1.747999e+08  1.385749e+09   \n",
       "5         3929           7.2          2015  1.241999e+08  4.903142e+08   \n",
       "7         4572           7.6          2015  9.935996e+07  5.477497e+08   \n",
       "9         3935           8.0          2015  1.609999e+08  7.854116e+08   \n",
       "12        2854           7.6          2015  1.379999e+07  3.391985e+07   \n",
       "14        4304           7.4          2015  2.575999e+08  1.292632e+09   \n",
       "15        2389           7.4          2015  4.047998e+07  1.432992e+08   \n",
       "17        3779           7.0          2015  1.195999e+08  4.771138e+08   \n",
       "\n",
       "   vote_rating  \n",
       "1         high  \n",
       "3         high  \n",
       "4         high  \n",
       "5         high  \n",
       "7         high  \n",
       "9         high  \n",
       "12        high  \n",
       "14        high  \n",
       "15        high  \n",
       "17        high  "
      ]
     },
     "execution_count": 77,
     "metadata": {},
     "output_type": "execute_result"
    }
   ],
   "source": [
    "df_high=df[df['vote_rating'] =='high']\n",
    "df_high.head(10)"
   ]
  },
  {
   "cell_type": "markdown",
   "metadata": {},
   "source": [
    "Observation: We can see the list of movies that got 'high' vote rating and and even its high popularity. Mad max and star wars are among the high vote rating band and even high popularity too. We get list of movies with high vote_rating."
   ]
  },
  {
   "cell_type": "markdown",
   "metadata": {},
   "source": [
    " # Question 6 Which are the directors who made highest number of movies and what is the difference in their popularity ranking?"
   ]
  },
  {
   "cell_type": "code",
   "execution_count": 78,
   "metadata": {},
   "outputs": [
    {
     "data": {
      "text/plain": [
       "Woody Allen                      45\n",
       "Clint Eastwood                   34\n",
       "Steven Spielberg                 29\n",
       "Martin Scorsese                  28\n",
       "Ridley Scott                     23\n",
       "Ron Howard                       22\n",
       "Steven Soderbergh                22\n",
       "Joel Schumacher                  21\n",
       "Brian De Palma                   20\n",
       "Barry Levinson                   19\n",
       "Wes Craven                       19\n",
       "Tim Burton                       18\n",
       "Rob Reiner                       18\n",
       "David Cronenberg                 18\n",
       "John Carpenter                   18\n",
       "Mike Nichols                     18\n",
       "Robert Zemeckis                  17\n",
       "Francis Ford Coppola             17\n",
       "Peter Hyams                      17\n",
       "Oliver Stone                     17\n",
       "Walter Hill                      17\n",
       "Sidney Lumet                     17\n",
       "Spike Lee                        17\n",
       "Stephen Frears                   17\n",
       "Norman Jewison                   17\n",
       "Renny Harlin                     17\n",
       "Uwe Boll                         16\n",
       "Stephen Herek                    16\n",
       "Blake Edwards                    16\n",
       "Richard Donner                   16\n",
       "                                 ..\n",
       "Lars Jacobson|Amardeep Kaleka     1\n",
       "Tim Iacofano                      1\n",
       "Rowan Woods                       1\n",
       "Sonny Mallhi                      1\n",
       "Howard McCain                     1\n",
       "Michael Gornick                   1\n",
       "Simon Shore                       1\n",
       "Martin Sheen                      1\n",
       "Maria Lease                       1\n",
       "Tim Maltby                        1\n",
       "Keanu Reeves                      1\n",
       "Ubaldo Ragona|Sidney Salkow       1\n",
       "Amol Palekar                      1\n",
       "Diederik Van Rooijen              1\n",
       "Frank Pavich                      1\n",
       "Amy S. Weber                      1\n",
       "Aram Rappaport                    1\n",
       "Deb Hagan                         1\n",
       "Ronnie del Carmen                 1\n",
       "Chazz Palminteri                  1\n",
       "Baillie Walsh                     1\n",
       "Brad Turner                       1\n",
       "Alain Resnais                     1\n",
       "Zachary Heinzerling               1\n",
       "Allison Liddi-Brown               1\n",
       "Rupert Sanders                    1\n",
       "Chris Riedell|Nick Riedell        1\n",
       "Christian Charles                 1\n",
       "Eric England                      1\n",
       "Bruno Solo|Yvan Le Bolloc'h       1\n",
       "Name: director, Length: 5001, dtype: int64"
      ]
     },
     "execution_count": 78,
     "metadata": {},
     "output_type": "execute_result"
    }
   ],
   "source": [
    "df.director.value_counts()"
   ]
  },
  {
   "cell_type": "code",
   "execution_count": 80,
   "metadata": {},
   "outputs": [
    {
     "data": {
      "text/plain": [
       "34"
      ]
     },
     "execution_count": 80,
     "metadata": {},
     "output_type": "execute_result"
    }
   ],
   "source": [
    "df.query('director in [\"Clint Eastwood\"]').original_title.nunique()\n"
   ]
  },
  {
   "cell_type": "markdown",
   "metadata": {},
   "source": [
    "Woody Allen and Clint Eastwood are two directors who directed highest number of films than any directors in the dataset."
   ]
  },
  {
   "cell_type": "code",
   "execution_count": 81,
   "metadata": {},
   "outputs": [
    {
     "data": {
      "text/html": [
       "<div>\n",
       "<style scoped>\n",
       "    .dataframe tbody tr th:only-of-type {\n",
       "        vertical-align: middle;\n",
       "    }\n",
       "\n",
       "    .dataframe tbody tr th {\n",
       "        vertical-align: top;\n",
       "    }\n",
       "\n",
       "    .dataframe thead th {\n",
       "        text-align: right;\n",
       "    }\n",
       "</style>\n",
       "<table border=\"1\" class=\"dataframe\">\n",
       "  <thead>\n",
       "    <tr style=\"text-align: right;\">\n",
       "      <th></th>\n",
       "      <th>id</th>\n",
       "      <th>popularity</th>\n",
       "      <th>budget</th>\n",
       "      <th>revenue</th>\n",
       "      <th>original_title</th>\n",
       "      <th>cast</th>\n",
       "      <th>director</th>\n",
       "      <th>runtime</th>\n",
       "      <th>genres</th>\n",
       "      <th>production_companies</th>\n",
       "      <th>release_date</th>\n",
       "      <th>vote_count</th>\n",
       "      <th>vote_average</th>\n",
       "      <th>release_year</th>\n",
       "      <th>budget_adj</th>\n",
       "      <th>revenue_adj</th>\n",
       "      <th>vote_rating</th>\n",
       "    </tr>\n",
       "  </thead>\n",
       "  <tbody>\n",
       "    <tr>\n",
       "      <th>657</th>\n",
       "      <td>190859</td>\n",
       "      <td>3.863074</td>\n",
       "      <td>58800000.0</td>\n",
       "      <td>542307423.0</td>\n",
       "      <td>American Sniper</td>\n",
       "      <td>Bradley Cooper|Sienna Miller|Kyle Gallner|Cole...</td>\n",
       "      <td>Clint Eastwood</td>\n",
       "      <td>134</td>\n",
       "      <td>War|Action</td>\n",
       "      <td>Village Roadshow Pictures|Malpaso Productions|...</td>\n",
       "      <td>12/11/2014</td>\n",
       "      <td>3004</td>\n",
       "      <td>7.5</td>\n",
       "      <td>2014</td>\n",
       "      <td>54160153.79</td>\n",
       "      <td>4.995145e+08</td>\n",
       "      <td>high</td>\n",
       "    </tr>\n",
       "    <tr>\n",
       "      <th>803</th>\n",
       "      <td>209451</td>\n",
       "      <td>0.797723</td>\n",
       "      <td>40000000.0</td>\n",
       "      <td>67347013.0</td>\n",
       "      <td>Jersey Boys</td>\n",
       "      <td>Christopher Walken|Vincent Piazza|Freya Tingle...</td>\n",
       "      <td>Clint Eastwood</td>\n",
       "      <td>134</td>\n",
       "      <td>Music|Drama</td>\n",
       "      <td>Warner Bros.</td>\n",
       "      <td>6/5/2014</td>\n",
       "      <td>181</td>\n",
       "      <td>6.7</td>\n",
       "      <td>2014</td>\n",
       "      <td>36843642.03</td>\n",
       "      <td>6.203273e+07</td>\n",
       "      <td>high</td>\n",
       "    </tr>\n",
       "    <tr>\n",
       "      <th>1344</th>\n",
       "      <td>17689</td>\n",
       "      <td>0.495480</td>\n",
       "      <td>5500000.0</td>\n",
       "      <td>26414658.0</td>\n",
       "      <td>The Gauntlet</td>\n",
       "      <td>Clint Eastwood|Sondra Locke|Pat Hingle|William...</td>\n",
       "      <td>Clint Eastwood</td>\n",
       "      <td>109</td>\n",
       "      <td>Drama|Action|Crime|Thriller</td>\n",
       "      <td>Malpaso Productions|Warner Bros.</td>\n",
       "      <td>12/21/1977</td>\n",
       "      <td>45</td>\n",
       "      <td>6.7</td>\n",
       "      <td>1977</td>\n",
       "      <td>19787795.68</td>\n",
       "      <td>9.503416e+07</td>\n",
       "      <td>high</td>\n",
       "    </tr>\n",
       "    <tr>\n",
       "      <th>1499</th>\n",
       "      <td>22954</td>\n",
       "      <td>0.756385</td>\n",
       "      <td>60000000.0</td>\n",
       "      <td>122233971.0</td>\n",
       "      <td>Invictus</td>\n",
       "      <td>Morgan Freeman|Matt Damon|Tony Kgoroge|Patrick...</td>\n",
       "      <td>Clint Eastwood</td>\n",
       "      <td>134</td>\n",
       "      <td>Drama|History</td>\n",
       "      <td>Spyglass Entertainment|Malpaso Productions|Rev...</td>\n",
       "      <td>12/10/2009</td>\n",
       "      <td>675</td>\n",
       "      <td>6.9</td>\n",
       "      <td>2009</td>\n",
       "      <td>60984026.05</td>\n",
       "      <td>1.242387e+08</td>\n",
       "      <td>high</td>\n",
       "    </tr>\n",
       "    <tr>\n",
       "      <th>2086</th>\n",
       "      <td>44603</td>\n",
       "      <td>0.598275</td>\n",
       "      <td>50000000.0</td>\n",
       "      <td>105197635.0</td>\n",
       "      <td>Hereafter</td>\n",
       "      <td>Matt Damon|Bryce Dallas Howard|George McLaren|...</td>\n",
       "      <td>Clint Eastwood</td>\n",
       "      <td>129</td>\n",
       "      <td>Drama|Fantasy</td>\n",
       "      <td>Amblin Entertainment|Malpaso Productions|Warne...</td>\n",
       "      <td>10/15/2010</td>\n",
       "      <td>279</td>\n",
       "      <td>5.5</td>\n",
       "      <td>2010</td>\n",
       "      <td>50000000.00</td>\n",
       "      <td>1.051976e+08</td>\n",
       "      <td>medium</td>\n",
       "    </tr>\n",
       "  </tbody>\n",
       "</table>\n",
       "</div>"
      ],
      "text/plain": [
       "          id  popularity      budget      revenue   original_title  \\\n",
       "657   190859    3.863074  58800000.0  542307423.0  American Sniper   \n",
       "803   209451    0.797723  40000000.0   67347013.0      Jersey Boys   \n",
       "1344   17689    0.495480   5500000.0   26414658.0     The Gauntlet   \n",
       "1499   22954    0.756385  60000000.0  122233971.0         Invictus   \n",
       "2086   44603    0.598275  50000000.0  105197635.0        Hereafter   \n",
       "\n",
       "                                                   cast        director  \\\n",
       "657   Bradley Cooper|Sienna Miller|Kyle Gallner|Cole...  Clint Eastwood   \n",
       "803   Christopher Walken|Vincent Piazza|Freya Tingle...  Clint Eastwood   \n",
       "1344  Clint Eastwood|Sondra Locke|Pat Hingle|William...  Clint Eastwood   \n",
       "1499  Morgan Freeman|Matt Damon|Tony Kgoroge|Patrick...  Clint Eastwood   \n",
       "2086  Matt Damon|Bryce Dallas Howard|George McLaren|...  Clint Eastwood   \n",
       "\n",
       "      runtime                       genres  \\\n",
       "657       134                   War|Action   \n",
       "803       134                  Music|Drama   \n",
       "1344      109  Drama|Action|Crime|Thriller   \n",
       "1499      134                Drama|History   \n",
       "2086      129                Drama|Fantasy   \n",
       "\n",
       "                                   production_companies release_date  \\\n",
       "657   Village Roadshow Pictures|Malpaso Productions|...   12/11/2014   \n",
       "803                                        Warner Bros.     6/5/2014   \n",
       "1344                   Malpaso Productions|Warner Bros.   12/21/1977   \n",
       "1499  Spyglass Entertainment|Malpaso Productions|Rev...   12/10/2009   \n",
       "2086  Amblin Entertainment|Malpaso Productions|Warne...   10/15/2010   \n",
       "\n",
       "      vote_count  vote_average  release_year   budget_adj   revenue_adj  \\\n",
       "657         3004           7.5          2014  54160153.79  4.995145e+08   \n",
       "803          181           6.7          2014  36843642.03  6.203273e+07   \n",
       "1344          45           6.7          1977  19787795.68  9.503416e+07   \n",
       "1499         675           6.9          2009  60984026.05  1.242387e+08   \n",
       "2086         279           5.5          2010  50000000.00  1.051976e+08   \n",
       "\n",
       "     vote_rating  \n",
       "657         high  \n",
       "803         high  \n",
       "1344        high  \n",
       "1499        high  \n",
       "2086      medium  "
      ]
     },
     "execution_count": 81,
     "metadata": {},
     "output_type": "execute_result"
    }
   ],
   "source": [
    "df_CE=df[df['director'] =='Clint Eastwood']\n",
    "df_CE.head()"
   ]
  },
  {
   "cell_type": "code",
   "execution_count": 82,
   "metadata": {},
   "outputs": [
    {
     "data": {
      "text/html": [
       "<div>\n",
       "<style scoped>\n",
       "    .dataframe tbody tr th:only-of-type {\n",
       "        vertical-align: middle;\n",
       "    }\n",
       "\n",
       "    .dataframe tbody tr th {\n",
       "        vertical-align: top;\n",
       "    }\n",
       "\n",
       "    .dataframe thead th {\n",
       "        text-align: right;\n",
       "    }\n",
       "</style>\n",
       "<table border=\"1\" class=\"dataframe\">\n",
       "  <thead>\n",
       "    <tr style=\"text-align: right;\">\n",
       "      <th></th>\n",
       "      <th>id</th>\n",
       "      <th>popularity</th>\n",
       "      <th>budget</th>\n",
       "      <th>revenue</th>\n",
       "      <th>original_title</th>\n",
       "      <th>cast</th>\n",
       "      <th>director</th>\n",
       "      <th>runtime</th>\n",
       "      <th>genres</th>\n",
       "      <th>production_companies</th>\n",
       "      <th>release_date</th>\n",
       "      <th>vote_count</th>\n",
       "      <th>vote_average</th>\n",
       "      <th>release_year</th>\n",
       "      <th>budget_adj</th>\n",
       "      <th>revenue_adj</th>\n",
       "      <th>vote_rating</th>\n",
       "    </tr>\n",
       "  </thead>\n",
       "  <tbody>\n",
       "    <tr>\n",
       "      <th>155</th>\n",
       "      <td>282984</td>\n",
       "      <td>1.007054</td>\n",
       "      <td>11000000.0</td>\n",
       "      <td>27391084.0</td>\n",
       "      <td>Irrational Man</td>\n",
       "      <td>Emma Stone|Joaquin Phoenix|Jamie Blackley|Park...</td>\n",
       "      <td>Woody Allen</td>\n",
       "      <td>95</td>\n",
       "      <td>Mystery|Drama</td>\n",
       "      <td>Sony Pictures|Gravier Productions</td>\n",
       "      <td>7/17/2015</td>\n",
       "      <td>319</td>\n",
       "      <td>6.1</td>\n",
       "      <td>2015</td>\n",
       "      <td>10119995.55</td>\n",
       "      <td>2.519979e+07</td>\n",
       "      <td>medium-high</td>\n",
       "    </tr>\n",
       "    <tr>\n",
       "      <th>790</th>\n",
       "      <td>229297</td>\n",
       "      <td>0.889247</td>\n",
       "      <td>NaN</td>\n",
       "      <td>32339326.0</td>\n",
       "      <td>Magic in the Moonlight</td>\n",
       "      <td>Colin Firth|Emma Stone|Hamish Linklater|Marcia...</td>\n",
       "      <td>Woody Allen</td>\n",
       "      <td>97</td>\n",
       "      <td>Comedy|Drama|Romance</td>\n",
       "      <td>Perdido Productions|Harbor Picture Company</td>\n",
       "      <td>7/25/2014</td>\n",
       "      <td>464</td>\n",
       "      <td>6.3</td>\n",
       "      <td>2014</td>\n",
       "      <td>0.00</td>\n",
       "      <td>2.978746e+07</td>\n",
       "      <td>medium-high</td>\n",
       "    </tr>\n",
       "    <tr>\n",
       "      <th>1332</th>\n",
       "      <td>703</td>\n",
       "      <td>1.179653</td>\n",
       "      <td>4000000.0</td>\n",
       "      <td>38251425.0</td>\n",
       "      <td>Annie Hall</td>\n",
       "      <td>Woody Allen|Diane Keaton|Tony Roberts|Carol Ka...</td>\n",
       "      <td>Woody Allen</td>\n",
       "      <td>93</td>\n",
       "      <td>Comedy|Drama|Romance</td>\n",
       "      <td>United Artists</td>\n",
       "      <td>4/19/1977</td>\n",
       "      <td>493</td>\n",
       "      <td>7.6</td>\n",
       "      <td>1977</td>\n",
       "      <td>14391124.13</td>\n",
       "      <td>1.376203e+08</td>\n",
       "      <td>high</td>\n",
       "    </tr>\n",
       "    <tr>\n",
       "      <th>1489</th>\n",
       "      <td>19265</td>\n",
       "      <td>0.804857</td>\n",
       "      <td>15000000.0</td>\n",
       "      <td>NaN</td>\n",
       "      <td>Whatever Works</td>\n",
       "      <td>Larry David|Evan Rachel Wood|Adam Brooks|Micha...</td>\n",
       "      <td>Woody Allen</td>\n",
       "      <td>92</td>\n",
       "      <td>Comedy|Romance</td>\n",
       "      <td>Sony Pictures Classics|Wild Bunch|Gravier Prod...</td>\n",
       "      <td>6/19/2009</td>\n",
       "      <td>174</td>\n",
       "      <td>6.7</td>\n",
       "      <td>2009</td>\n",
       "      <td>15246006.51</td>\n",
       "      <td>0.000000e+00</td>\n",
       "      <td>high</td>\n",
       "    </tr>\n",
       "    <tr>\n",
       "      <th>2126</th>\n",
       "      <td>38031</td>\n",
       "      <td>0.493121</td>\n",
       "      <td>22000000.0</td>\n",
       "      <td>NaN</td>\n",
       "      <td>You Will Meet a Tall Dark Stranger</td>\n",
       "      <td>Naomi Watts|Josh Brolin|Antonio Banderas|Ewen ...</td>\n",
       "      <td>Woody Allen</td>\n",
       "      <td>98</td>\n",
       "      <td>Comedy|Drama|Romance</td>\n",
       "      <td>Antena 3 Films</td>\n",
       "      <td>5/23/2010</td>\n",
       "      <td>131</td>\n",
       "      <td>5.8</td>\n",
       "      <td>2010</td>\n",
       "      <td>22000000.00</td>\n",
       "      <td>0.000000e+00</td>\n",
       "      <td>medium</td>\n",
       "    </tr>\n",
       "  </tbody>\n",
       "</table>\n",
       "</div>"
      ],
      "text/plain": [
       "          id  popularity      budget     revenue  \\\n",
       "155   282984    1.007054  11000000.0  27391084.0   \n",
       "790   229297    0.889247         NaN  32339326.0   \n",
       "1332     703    1.179653   4000000.0  38251425.0   \n",
       "1489   19265    0.804857  15000000.0         NaN   \n",
       "2126   38031    0.493121  22000000.0         NaN   \n",
       "\n",
       "                          original_title  \\\n",
       "155                       Irrational Man   \n",
       "790               Magic in the Moonlight   \n",
       "1332                          Annie Hall   \n",
       "1489                      Whatever Works   \n",
       "2126  You Will Meet a Tall Dark Stranger   \n",
       "\n",
       "                                                   cast     director  runtime  \\\n",
       "155   Emma Stone|Joaquin Phoenix|Jamie Blackley|Park...  Woody Allen       95   \n",
       "790   Colin Firth|Emma Stone|Hamish Linklater|Marcia...  Woody Allen       97   \n",
       "1332  Woody Allen|Diane Keaton|Tony Roberts|Carol Ka...  Woody Allen       93   \n",
       "1489  Larry David|Evan Rachel Wood|Adam Brooks|Micha...  Woody Allen       92   \n",
       "2126  Naomi Watts|Josh Brolin|Antonio Banderas|Ewen ...  Woody Allen       98   \n",
       "\n",
       "                    genres                               production_companies  \\\n",
       "155          Mystery|Drama                  Sony Pictures|Gravier Productions   \n",
       "790   Comedy|Drama|Romance         Perdido Productions|Harbor Picture Company   \n",
       "1332  Comedy|Drama|Romance                                     United Artists   \n",
       "1489        Comedy|Romance  Sony Pictures Classics|Wild Bunch|Gravier Prod...   \n",
       "2126  Comedy|Drama|Romance                                     Antena 3 Films   \n",
       "\n",
       "     release_date  vote_count  vote_average  release_year   budget_adj  \\\n",
       "155     7/17/2015         319           6.1          2015  10119995.55   \n",
       "790     7/25/2014         464           6.3          2014         0.00   \n",
       "1332    4/19/1977         493           7.6          1977  14391124.13   \n",
       "1489    6/19/2009         174           6.7          2009  15246006.51   \n",
       "2126    5/23/2010         131           5.8          2010  22000000.00   \n",
       "\n",
       "       revenue_adj  vote_rating  \n",
       "155   2.519979e+07  medium-high  \n",
       "790   2.978746e+07  medium-high  \n",
       "1332  1.376203e+08         high  \n",
       "1489  0.000000e+00         high  \n",
       "2126  0.000000e+00       medium  "
      ]
     },
     "execution_count": 82,
     "metadata": {},
     "output_type": "execute_result"
    }
   ],
   "source": [
    "df_WA=df[df['director'] =='Woody Allen']\n",
    "df_WA.head()"
   ]
  },
  {
   "cell_type": "code",
   "execution_count": 83,
   "metadata": {},
   "outputs": [
    {
     "data": {
      "text/plain": [
       "count    34.000000\n",
       "mean      0.830037\n",
       "std       0.685645\n",
       "min       0.235286\n",
       "25%       0.508087\n",
       "50%       0.684916\n",
       "75%       0.831120\n",
       "max       3.863074\n",
       "Name: popularity, dtype: float64"
      ]
     },
     "execution_count": 83,
     "metadata": {},
     "output_type": "execute_result"
    }
   ],
   "source": [
    "# More statistical information on popularity on Clint's movies.\n",
    "df_CE['popularity'].describe()"
   ]
  },
  {
   "cell_type": "markdown",
   "metadata": {},
   "source": [
    "The maximum popularity that he got was of 3."
   ]
  },
  {
   "cell_type": "code",
   "execution_count": 44,
   "metadata": {},
   "outputs": [
    {
     "data": {
      "text/plain": [
       "count    45.000000\n",
       "mean      0.563424\n",
       "std       0.276695\n",
       "min       0.064317\n",
       "25%       0.420500\n",
       "50%       0.491393\n",
       "75%       0.737519\n",
       "max       1.367727\n",
       "Name: popularity, dtype: float64"
      ]
     },
     "execution_count": 44,
     "metadata": {},
     "output_type": "execute_result"
    }
   ],
   "source": [
    "# More statistical information on popularity of Woody's movies.\n",
    "df_WA['popularity'].describe()"
   ]
  },
  {
   "cell_type": "markdown",
   "metadata": {},
   "source": [
    "Observation : In terms of Maximum popularity ranking Woody Allen got was 1.36, lesser than Clint Eastwood."
   ]
  },
  {
   "cell_type": "markdown",
   "metadata": {},
   "source": [
    "Let us visualize it."
   ]
  },
  {
   "cell_type": "code",
   "execution_count": 84,
   "metadata": {},
   "outputs": [
    {
     "data": {
      "image/png": "[encoded data removed]",
      "text/plain": [
       "<Figure size 576x432 with 1 Axes>"
      ]
     },
     "metadata": {},
     "output_type": "display_data"
    }
   ],
   "source": [
    "fig, ax = plt.subplots(figsize=(8,6))\n",
    "ax.hist(df_CE['popularity'], alpha=0.5, label='Clint Eastwood')  \n",
    "ax.hist(df_WA['popularity'], alpha=0.5, label='Woody Allen')\n",
    "ax.set_title('Distribution of popularity of Clint Eastwood and Woody Allen')\n",
    "ax.set_xlabel('Popularity')\n",
    "ax.set_ylabel('Count')\n",
    "ax.legend(loc='upper right')\n",
    "plt.show()"
   ]
  },
  {
   "cell_type": "markdown",
   "metadata": {},
   "source": [
    "Observation: Client Eastwood made more popular movies than Woody Allen, Though Woody Allen made more movies than Clint Eastwood."
   ]
  },
  {
   "cell_type": "markdown",
   "metadata": {},
   "source": [
    "# Question 7 More vote average means movies with more popular ranking?"
   ]
  },
  {
   "cell_type": "code",
   "execution_count": 85,
   "metadata": {},
   "outputs": [
    {
     "data": {
      "image/png": "[encoded data removed]",
      "text/plain": [
       "<Figure size 432x288 with 1 Axes>"
      ]
     },
     "metadata": {},
     "output_type": "display_data"
    }
   ],
   "source": [
    "df.plot(x='vote_average', y='popularity', kind='scatter');"
   ]
  },
  {
   "cell_type": "markdown",
   "metadata": {},
   "source": [
    "Observation: The movies between vote average 6 and 8 are very popular. The movies with 9 popularity ranking do not have high vote average."
   ]
  },
  {
   "cell_type": "markdown",
   "metadata": {},
   "source": [
    "# Question 8 What is the co-relationship between Budget and popularity?"
   ]
  },
  {
   "cell_type": "code",
   "execution_count": 86,
   "metadata": {},
   "outputs": [],
   "source": [
    "formatter = lambda x: '{:,.0f}'.format(x)\n",
    "df['budget_adj'] = df['budget_adj'].map(formatter)"
   ]
  },
  {
   "cell_type": "code",
   "execution_count": 87,
   "metadata": {},
   "outputs": [],
   "source": [
    "formatter = lambda x: '{:,.0f}'.format(x)\n",
    "df['revenue_adj'] = df['revenue_adj'].map(formatter)"
   ]
  },
  {
   "cell_type": "code",
   "execution_count": 88,
   "metadata": {},
   "outputs": [
    {
     "data": {
      "text/html": [
       "<div>\n",
       "<style scoped>\n",
       "    .dataframe tbody tr th:only-of-type {\n",
       "        vertical-align: middle;\n",
       "    }\n",
       "\n",
       "    .dataframe tbody tr th {\n",
       "        vertical-align: top;\n",
       "    }\n",
       "\n",
       "    .dataframe thead th {\n",
       "        text-align: right;\n",
       "    }\n",
       "</style>\n",
       "<table border=\"1\" class=\"dataframe\">\n",
       "  <thead>\n",
       "    <tr style=\"text-align: right;\">\n",
       "      <th></th>\n",
       "      <th>id</th>\n",
       "      <th>popularity</th>\n",
       "      <th>budget</th>\n",
       "      <th>revenue</th>\n",
       "      <th>original_title</th>\n",
       "      <th>cast</th>\n",
       "      <th>director</th>\n",
       "      <th>runtime</th>\n",
       "      <th>genres</th>\n",
       "      <th>production_companies</th>\n",
       "      <th>release_date</th>\n",
       "      <th>vote_count</th>\n",
       "      <th>vote_average</th>\n",
       "      <th>release_year</th>\n",
       "      <th>budget_adj</th>\n",
       "      <th>revenue_adj</th>\n",
       "      <th>vote_rating</th>\n",
       "    </tr>\n",
       "  </thead>\n",
       "  <tbody>\n",
       "    <tr>\n",
       "      <th>0</th>\n",
       "      <td>135397</td>\n",
       "      <td>32.985763</td>\n",
       "      <td>150000000.0</td>\n",
       "      <td>1.513529e+09</td>\n",
       "      <td>Jurassic World</td>\n",
       "      <td>Chris Pratt|Bryce Dallas Howard|Irrfan Khan|Vi...</td>\n",
       "      <td>Colin Trevorrow</td>\n",
       "      <td>124</td>\n",
       "      <td>Action|Adventure|Science Fiction|Thriller</td>\n",
       "      <td>Universal Studios|Amblin Entertainment|Legenda...</td>\n",
       "      <td>6/9/2015</td>\n",
       "      <td>5562</td>\n",
       "      <td>6.5</td>\n",
       "      <td>2015</td>\n",
       "      <td>137,999,939</td>\n",
       "      <td>1,392,445,893</td>\n",
       "      <td>medium-high</td>\n",
       "    </tr>\n",
       "    <tr>\n",
       "      <th>1</th>\n",
       "      <td>76341</td>\n",
       "      <td>28.419936</td>\n",
       "      <td>150000000.0</td>\n",
       "      <td>3.784364e+08</td>\n",
       "      <td>Mad Max: Fury Road</td>\n",
       "      <td>Tom Hardy|Charlize Theron|Hugh Keays-Byrne|Nic...</td>\n",
       "      <td>George Miller</td>\n",
       "      <td>120</td>\n",
       "      <td>Action|Adventure|Science Fiction|Thriller</td>\n",
       "      <td>Village Roadshow Pictures|Kennedy Miller Produ...</td>\n",
       "      <td>5/13/2015</td>\n",
       "      <td>6185</td>\n",
       "      <td>7.1</td>\n",
       "      <td>2015</td>\n",
       "      <td>137,999,939</td>\n",
       "      <td>348,161,292</td>\n",
       "      <td>high</td>\n",
       "    </tr>\n",
       "    <tr>\n",
       "      <th>2</th>\n",
       "      <td>262500</td>\n",
       "      <td>13.112507</td>\n",
       "      <td>110000000.0</td>\n",
       "      <td>2.952382e+08</td>\n",
       "      <td>Insurgent</td>\n",
       "      <td>Shailene Woodley|Theo James|Kate Winslet|Ansel...</td>\n",
       "      <td>Robert Schwentke</td>\n",
       "      <td>119</td>\n",
       "      <td>Adventure|Science Fiction|Thriller</td>\n",
       "      <td>Summit Entertainment|Mandeville Films|Red Wago...</td>\n",
       "      <td>3/18/2015</td>\n",
       "      <td>2480</td>\n",
       "      <td>6.3</td>\n",
       "      <td>2015</td>\n",
       "      <td>101,199,956</td>\n",
       "      <td>271,619,025</td>\n",
       "      <td>medium-high</td>\n",
       "    </tr>\n",
       "    <tr>\n",
       "      <th>3</th>\n",
       "      <td>140607</td>\n",
       "      <td>11.173104</td>\n",
       "      <td>200000000.0</td>\n",
       "      <td>2.068178e+09</td>\n",
       "      <td>Star Wars: The Force Awakens</td>\n",
       "      <td>Harrison Ford|Mark Hamill|Carrie Fisher|Adam D...</td>\n",
       "      <td>J.J. Abrams</td>\n",
       "      <td>136</td>\n",
       "      <td>Action|Adventure|Science Fiction|Fantasy</td>\n",
       "      <td>Lucasfilm|Truenorth Productions|Bad Robot</td>\n",
       "      <td>12/15/2015</td>\n",
       "      <td>5292</td>\n",
       "      <td>7.5</td>\n",
       "      <td>2015</td>\n",
       "      <td>183,999,919</td>\n",
       "      <td>1,902,723,130</td>\n",
       "      <td>high</td>\n",
       "    </tr>\n",
       "    <tr>\n",
       "      <th>4</th>\n",
       "      <td>168259</td>\n",
       "      <td>9.335014</td>\n",
       "      <td>190000000.0</td>\n",
       "      <td>1.506249e+09</td>\n",
       "      <td>Furious 7</td>\n",
       "      <td>Vin Diesel|Paul Walker|Jason Statham|Michelle ...</td>\n",
       "      <td>James Wan</td>\n",
       "      <td>137</td>\n",
       "      <td>Action|Crime|Thriller</td>\n",
       "      <td>Universal Pictures|Original Film|Media Rights ...</td>\n",
       "      <td>4/1/2015</td>\n",
       "      <td>2947</td>\n",
       "      <td>7.3</td>\n",
       "      <td>2015</td>\n",
       "      <td>174,799,923</td>\n",
       "      <td>1,385,748,801</td>\n",
       "      <td>high</td>\n",
       "    </tr>\n",
       "  </tbody>\n",
       "</table>\n",
       "</div>"
      ],
      "text/plain": [
       "       id  popularity       budget       revenue  \\\n",
       "0  135397   32.985763  150000000.0  1.513529e+09   \n",
       "1   76341   28.419936  150000000.0  3.784364e+08   \n",
       "2  262500   13.112507  110000000.0  2.952382e+08   \n",
       "3  140607   11.173104  200000000.0  2.068178e+09   \n",
       "4  168259    9.335014  190000000.0  1.506249e+09   \n",
       "\n",
       "                 original_title  \\\n",
       "0                Jurassic World   \n",
       "1            Mad Max: Fury Road   \n",
       "2                     Insurgent   \n",
       "3  Star Wars: The Force Awakens   \n",
       "4                     Furious 7   \n",
       "\n",
       "                                                cast          director  \\\n",
       "0  Chris Pratt|Bryce Dallas Howard|Irrfan Khan|Vi...   Colin Trevorrow   \n",
       "1  Tom Hardy|Charlize Theron|Hugh Keays-Byrne|Nic...     George Miller   \n",
       "2  Shailene Woodley|Theo James|Kate Winslet|Ansel...  Robert Schwentke   \n",
       "3  Harrison Ford|Mark Hamill|Carrie Fisher|Adam D...       J.J. Abrams   \n",
       "4  Vin Diesel|Paul Walker|Jason Statham|Michelle ...         James Wan   \n",
       "\n",
       "   runtime                                     genres  \\\n",
       "0      124  Action|Adventure|Science Fiction|Thriller   \n",
       "1      120  Action|Adventure|Science Fiction|Thriller   \n",
       "2      119         Adventure|Science Fiction|Thriller   \n",
       "3      136   Action|Adventure|Science Fiction|Fantasy   \n",
       "4      137                      Action|Crime|Thriller   \n",
       "\n",
       "                                production_companies release_date  vote_count  \\\n",
       "0  Universal Studios|Amblin Entertainment|Legenda...     6/9/2015        5562   \n",
       "1  Village Roadshow Pictures|Kennedy Miller Produ...    5/13/2015        6185   \n",
       "2  Summit Entertainment|Mandeville Films|Red Wago...    3/18/2015        2480   \n",
       "3          Lucasfilm|Truenorth Productions|Bad Robot   12/15/2015        5292   \n",
       "4  Universal Pictures|Original Film|Media Rights ...     4/1/2015        2947   \n",
       "\n",
       "   vote_average  release_year   budget_adj    revenue_adj  vote_rating  \n",
       "0           6.5          2015  137,999,939  1,392,445,893  medium-high  \n",
       "1           7.1          2015  137,999,939    348,161,292         high  \n",
       "2           6.3          2015  101,199,956    271,619,025  medium-high  \n",
       "3           7.5          2015  183,999,919  1,902,723,130         high  \n",
       "4           7.3          2015  174,799,923  1,385,748,801         high  "
      ]
     },
     "execution_count": 88,
     "metadata": {},
     "output_type": "execute_result"
    }
   ],
   "source": [
    "df.head()"
   ]
  },
  {
   "cell_type": "code",
   "execution_count": 89,
   "metadata": {},
   "outputs": [
    {
     "data": {
      "image/png": "[encoded data removed]",
      "text/plain": [
       "<Figure size 432x288 with 1 Axes>"
      ]
     },
     "metadata": {},
     "output_type": "display_data"
    }
   ],
   "source": [
    "plt.scatter(df['budget'], df['popularity'])\n",
    "#labels, titles\n",
    "plt.xlabel('budget')\n",
    "plt.ylabel('Popularity')\n",
    "plt.title('Budget vs Popularity');"
   ]
  },
  {
   "cell_type": "markdown",
   "metadata": {},
   "source": [
    "Observation: By the above scatter plot we notice that the theres no much co relation between the budget of the movies and its popularity, that is more the budget more is its popularity is not true. There are movies whose budget were more than the other maximum movies but they were not popular."
   ]
  },
  {
   "cell_type": "markdown",
   "metadata": {},
   "source": [
    "# Question 9 Which are the top 5  movies with i.highest budget ii. with highest popularity iii.vote average "
   ]
  },
  {
   "cell_type": "code",
   "execution_count": 90,
   "metadata": {},
   "outputs": [
    {
     "data": {
      "text/html": [
       "<div>\n",
       "<style scoped>\n",
       "    .dataframe tbody tr th:only-of-type {\n",
       "        vertical-align: middle;\n",
       "    }\n",
       "\n",
       "    .dataframe tbody tr th {\n",
       "        vertical-align: top;\n",
       "    }\n",
       "\n",
       "    .dataframe thead th {\n",
       "        text-align: right;\n",
       "    }\n",
       "</style>\n",
       "<table border=\"1\" class=\"dataframe\">\n",
       "  <thead>\n",
       "    <tr style=\"text-align: right;\">\n",
       "      <th></th>\n",
       "      <th>id</th>\n",
       "      <th>popularity</th>\n",
       "      <th>budget</th>\n",
       "      <th>revenue</th>\n",
       "      <th>original_title</th>\n",
       "      <th>cast</th>\n",
       "      <th>director</th>\n",
       "      <th>runtime</th>\n",
       "      <th>genres</th>\n",
       "      <th>production_companies</th>\n",
       "      <th>release_date</th>\n",
       "      <th>vote_count</th>\n",
       "      <th>vote_average</th>\n",
       "      <th>release_year</th>\n",
       "      <th>budget_adj</th>\n",
       "      <th>revenue_adj</th>\n",
       "      <th>vote_rating</th>\n",
       "    </tr>\n",
       "  </thead>\n",
       "  <tbody>\n",
       "    <tr>\n",
       "      <th>0</th>\n",
       "      <td>135397</td>\n",
       "      <td>32.985763</td>\n",
       "      <td>150000000.0</td>\n",
       "      <td>1.513529e+09</td>\n",
       "      <td>Jurassic World</td>\n",
       "      <td>Chris Pratt|Bryce Dallas Howard|Irrfan Khan|Vi...</td>\n",
       "      <td>Colin Trevorrow</td>\n",
       "      <td>124</td>\n",
       "      <td>Action|Adventure|Science Fiction|Thriller</td>\n",
       "      <td>Universal Studios|Amblin Entertainment|Legenda...</td>\n",
       "      <td>6/9/2015</td>\n",
       "      <td>5562</td>\n",
       "      <td>6.5</td>\n",
       "      <td>2015</td>\n",
       "      <td>137,999,939</td>\n",
       "      <td>1,392,445,893</td>\n",
       "      <td>medium-high</td>\n",
       "    </tr>\n",
       "    <tr>\n",
       "      <th>1</th>\n",
       "      <td>76341</td>\n",
       "      <td>28.419936</td>\n",
       "      <td>150000000.0</td>\n",
       "      <td>3.784364e+08</td>\n",
       "      <td>Mad Max: Fury Road</td>\n",
       "      <td>Tom Hardy|Charlize Theron|Hugh Keays-Byrne|Nic...</td>\n",
       "      <td>George Miller</td>\n",
       "      <td>120</td>\n",
       "      <td>Action|Adventure|Science Fiction|Thriller</td>\n",
       "      <td>Village Roadshow Pictures|Kennedy Miller Produ...</td>\n",
       "      <td>5/13/2015</td>\n",
       "      <td>6185</td>\n",
       "      <td>7.1</td>\n",
       "      <td>2015</td>\n",
       "      <td>137,999,939</td>\n",
       "      <td>348,161,292</td>\n",
       "      <td>high</td>\n",
       "    </tr>\n",
       "    <tr>\n",
       "      <th>629</th>\n",
       "      <td>157336</td>\n",
       "      <td>24.949134</td>\n",
       "      <td>165000000.0</td>\n",
       "      <td>6.217525e+08</td>\n",
       "      <td>Interstellar</td>\n",
       "      <td>Matthew McConaughey|Jessica Chastain|Anne Hath...</td>\n",
       "      <td>Christopher Nolan</td>\n",
       "      <td>169</td>\n",
       "      <td>Adventure|Drama|Science Fiction</td>\n",
       "      <td>Paramount Pictures|Legendary Pictures|Warner B...</td>\n",
       "      <td>11/5/2014</td>\n",
       "      <td>6498</td>\n",
       "      <td>8.0</td>\n",
       "      <td>2014</td>\n",
       "      <td>151,980,023</td>\n",
       "      <td>572,690,645</td>\n",
       "      <td>high</td>\n",
       "    </tr>\n",
       "    <tr>\n",
       "      <th>630</th>\n",
       "      <td>118340</td>\n",
       "      <td>14.311205</td>\n",
       "      <td>170000000.0</td>\n",
       "      <td>7.733124e+08</td>\n",
       "      <td>Guardians of the Galaxy</td>\n",
       "      <td>Chris Pratt|Zoe Saldana|Dave Bautista|Vin Dies...</td>\n",
       "      <td>James Gunn</td>\n",
       "      <td>121</td>\n",
       "      <td>Action|Science Fiction|Adventure</td>\n",
       "      <td>Marvel Studios|Moving Picture Company (MPC)|Bu...</td>\n",
       "      <td>7/30/2014</td>\n",
       "      <td>5612</td>\n",
       "      <td>7.9</td>\n",
       "      <td>2014</td>\n",
       "      <td>156,585,479</td>\n",
       "      <td>712,291,130</td>\n",
       "      <td>high</td>\n",
       "    </tr>\n",
       "    <tr>\n",
       "      <th>2</th>\n",
       "      <td>262500</td>\n",
       "      <td>13.112507</td>\n",
       "      <td>110000000.0</td>\n",
       "      <td>2.952382e+08</td>\n",
       "      <td>Insurgent</td>\n",
       "      <td>Shailene Woodley|Theo James|Kate Winslet|Ansel...</td>\n",
       "      <td>Robert Schwentke</td>\n",
       "      <td>119</td>\n",
       "      <td>Adventure|Science Fiction|Thriller</td>\n",
       "      <td>Summit Entertainment|Mandeville Films|Red Wago...</td>\n",
       "      <td>3/18/2015</td>\n",
       "      <td>2480</td>\n",
       "      <td>6.3</td>\n",
       "      <td>2015</td>\n",
       "      <td>101,199,956</td>\n",
       "      <td>271,619,025</td>\n",
       "      <td>medium-high</td>\n",
       "    </tr>\n",
       "  </tbody>\n",
       "</table>\n",
       "</div>"
      ],
      "text/plain": [
       "         id  popularity       budget       revenue           original_title  \\\n",
       "0    135397   32.985763  150000000.0  1.513529e+09           Jurassic World   \n",
       "1     76341   28.419936  150000000.0  3.784364e+08       Mad Max: Fury Road   \n",
       "629  157336   24.949134  165000000.0  6.217525e+08             Interstellar   \n",
       "630  118340   14.311205  170000000.0  7.733124e+08  Guardians of the Galaxy   \n",
       "2    262500   13.112507  110000000.0  2.952382e+08                Insurgent   \n",
       "\n",
       "                                                  cast           director  \\\n",
       "0    Chris Pratt|Bryce Dallas Howard|Irrfan Khan|Vi...    Colin Trevorrow   \n",
       "1    Tom Hardy|Charlize Theron|Hugh Keays-Byrne|Nic...      George Miller   \n",
       "629  Matthew McConaughey|Jessica Chastain|Anne Hath...  Christopher Nolan   \n",
       "630  Chris Pratt|Zoe Saldana|Dave Bautista|Vin Dies...         James Gunn   \n",
       "2    Shailene Woodley|Theo James|Kate Winslet|Ansel...   Robert Schwentke   \n",
       "\n",
       "     runtime                                     genres  \\\n",
       "0        124  Action|Adventure|Science Fiction|Thriller   \n",
       "1        120  Action|Adventure|Science Fiction|Thriller   \n",
       "629      169            Adventure|Drama|Science Fiction   \n",
       "630      121           Action|Science Fiction|Adventure   \n",
       "2        119         Adventure|Science Fiction|Thriller   \n",
       "\n",
       "                                  production_companies release_date  \\\n",
       "0    Universal Studios|Amblin Entertainment|Legenda...     6/9/2015   \n",
       "1    Village Roadshow Pictures|Kennedy Miller Produ...    5/13/2015   \n",
       "629  Paramount Pictures|Legendary Pictures|Warner B...    11/5/2014   \n",
       "630  Marvel Studios|Moving Picture Company (MPC)|Bu...    7/30/2014   \n",
       "2    Summit Entertainment|Mandeville Films|Red Wago...    3/18/2015   \n",
       "\n",
       "     vote_count  vote_average  release_year   budget_adj    revenue_adj  \\\n",
       "0          5562           6.5          2015  137,999,939  1,392,445,893   \n",
       "1          6185           7.1          2015  137,999,939    348,161,292   \n",
       "629        6498           8.0          2014  151,980,023    572,690,645   \n",
       "630        5612           7.9          2014  156,585,479    712,291,130   \n",
       "2          2480           6.3          2015  101,199,956    271,619,025   \n",
       "\n",
       "     vote_rating  \n",
       "0    medium-high  \n",
       "1           high  \n",
       "629         high  \n",
       "630         high  \n",
       "2    medium-high  "
      ]
     },
     "execution_count": 90,
     "metadata": {},
     "output_type": "execute_result"
    }
   ],
   "source": [
    " df.nlargest(5, 'popularity')"
   ]
  },
  {
   "cell_type": "markdown",
   "metadata": {},
   "source": [
    "observation: Here we can get top 5 movies with highest popularity. But I can see that though Jurassic world is more popular than the first runner up Mad Max their vote average is different. Mad Max has more vote_average than Jurassic world and release year is the same. Popularuity of this movie must be due to its caast or story of graphic effects. From these 5 movies 2 movies falls into the category of medium-high vote_rating."
   ]
  },
  {
   "cell_type": "code",
   "execution_count": 91,
   "metadata": {},
   "outputs": [
    {
     "data": {
      "text/html": [
       "<div>\n",
       "<style scoped>\n",
       "    .dataframe tbody tr th:only-of-type {\n",
       "        vertical-align: middle;\n",
       "    }\n",
       "\n",
       "    .dataframe tbody tr th {\n",
       "        vertical-align: top;\n",
       "    }\n",
       "\n",
       "    .dataframe thead th {\n",
       "        text-align: right;\n",
       "    }\n",
       "</style>\n",
       "<table border=\"1\" class=\"dataframe\">\n",
       "  <thead>\n",
       "    <tr style=\"text-align: right;\">\n",
       "      <th></th>\n",
       "      <th>id</th>\n",
       "      <th>popularity</th>\n",
       "      <th>budget</th>\n",
       "      <th>revenue</th>\n",
       "      <th>original_title</th>\n",
       "      <th>cast</th>\n",
       "      <th>director</th>\n",
       "      <th>runtime</th>\n",
       "      <th>genres</th>\n",
       "      <th>production_companies</th>\n",
       "      <th>release_date</th>\n",
       "      <th>vote_count</th>\n",
       "      <th>vote_average</th>\n",
       "      <th>release_year</th>\n",
       "      <th>budget_adj</th>\n",
       "      <th>revenue_adj</th>\n",
       "      <th>vote_rating</th>\n",
       "    </tr>\n",
       "  </thead>\n",
       "  <tbody>\n",
       "    <tr>\n",
       "      <th>2244</th>\n",
       "      <td>46528</td>\n",
       "      <td>0.250540</td>\n",
       "      <td>425000000.0</td>\n",
       "      <td>1.108757e+07</td>\n",
       "      <td>The Warrior's Way</td>\n",
       "      <td>Kate Bosworth|Jang Dong-gun|Geoffrey Rush|Dann...</td>\n",
       "      <td>Sngmoo Lee</td>\n",
       "      <td>100</td>\n",
       "      <td>Adventure|Fantasy|Action|Western|Thriller</td>\n",
       "      <td>Boram Entertainment Inc.</td>\n",
       "      <td>12/2/2010</td>\n",
       "      <td>74</td>\n",
       "      <td>6.4</td>\n",
       "      <td>2010</td>\n",
       "      <td>425,000,000</td>\n",
       "      <td>11,087,569</td>\n",
       "      <td>medium-high</td>\n",
       "    </tr>\n",
       "    <tr>\n",
       "      <th>3375</th>\n",
       "      <td>1865</td>\n",
       "      <td>4.955130</td>\n",
       "      <td>380000000.0</td>\n",
       "      <td>1.021683e+09</td>\n",
       "      <td>Pirates of the Caribbean: On Stranger Tides</td>\n",
       "      <td>Johnny Depp|PenÃ©lope Cruz|Geoffrey Rush|Ian M...</td>\n",
       "      <td>Rob Marshall</td>\n",
       "      <td>136</td>\n",
       "      <td>Adventure|Action|Fantasy</td>\n",
       "      <td>Walt Disney Pictures|Jerry Bruckheimer Films|M...</td>\n",
       "      <td>5/11/2011</td>\n",
       "      <td>3180</td>\n",
       "      <td>6.3</td>\n",
       "      <td>2011</td>\n",
       "      <td>368,371,256</td>\n",
       "      <td>990,417,500</td>\n",
       "      <td>medium-high</td>\n",
       "    </tr>\n",
       "    <tr>\n",
       "      <th>7387</th>\n",
       "      <td>285</td>\n",
       "      <td>4.965391</td>\n",
       "      <td>300000000.0</td>\n",
       "      <td>9.610000e+08</td>\n",
       "      <td>Pirates of the Caribbean: At World's End</td>\n",
       "      <td>Johnny Depp|Orlando Bloom|Keira Knightley|Geof...</td>\n",
       "      <td>Gore Verbinski</td>\n",
       "      <td>169</td>\n",
       "      <td>Adventure|Fantasy|Action</td>\n",
       "      <td>Walt Disney Pictures|Jerry Bruckheimer Films|S...</td>\n",
       "      <td>5/19/2007</td>\n",
       "      <td>2626</td>\n",
       "      <td>6.8</td>\n",
       "      <td>2007</td>\n",
       "      <td>315,500,575</td>\n",
       "      <td>1,010,653,508</td>\n",
       "      <td>high</td>\n",
       "    </tr>\n",
       "    <tr>\n",
       "      <th>14</th>\n",
       "      <td>99861</td>\n",
       "      <td>5.944927</td>\n",
       "      <td>280000000.0</td>\n",
       "      <td>1.405036e+09</td>\n",
       "      <td>Avengers: Age of Ultron</td>\n",
       "      <td>Robert Downey Jr.|Chris Hemsworth|Mark Ruffalo...</td>\n",
       "      <td>Joss Whedon</td>\n",
       "      <td>141</td>\n",
       "      <td>Action|Adventure|Science Fiction</td>\n",
       "      <td>Marvel Studios|Prime Focus|Revolution Sun Studios</td>\n",
       "      <td>4/22/2015</td>\n",
       "      <td>4304</td>\n",
       "      <td>7.4</td>\n",
       "      <td>2015</td>\n",
       "      <td>257,599,887</td>\n",
       "      <td>1,292,632,337</td>\n",
       "      <td>high</td>\n",
       "    </tr>\n",
       "    <tr>\n",
       "      <th>6570</th>\n",
       "      <td>1452</td>\n",
       "      <td>1.957331</td>\n",
       "      <td>270000000.0</td>\n",
       "      <td>3.910812e+08</td>\n",
       "      <td>Superman Returns</td>\n",
       "      <td>Brandon Routh|Kevin Spacey|Kate Bosworth|James...</td>\n",
       "      <td>Bryan Singer</td>\n",
       "      <td>154</td>\n",
       "      <td>Adventure|Fantasy|Action|Science Fiction</td>\n",
       "      <td>DC Comics|Legendary Pictures|Warner Bros.|Bad ...</td>\n",
       "      <td>6/28/2006</td>\n",
       "      <td>834</td>\n",
       "      <td>5.3</td>\n",
       "      <td>2006</td>\n",
       "      <td>292,050,673</td>\n",
       "      <td>423,020,464</td>\n",
       "      <td>low</td>\n",
       "    </tr>\n",
       "  </tbody>\n",
       "</table>\n",
       "</div>"
      ],
      "text/plain": [
       "         id  popularity       budget       revenue  \\\n",
       "2244  46528    0.250540  425000000.0  1.108757e+07   \n",
       "3375   1865    4.955130  380000000.0  1.021683e+09   \n",
       "7387    285    4.965391  300000000.0  9.610000e+08   \n",
       "14    99861    5.944927  280000000.0  1.405036e+09   \n",
       "6570   1452    1.957331  270000000.0  3.910812e+08   \n",
       "\n",
       "                                   original_title  \\\n",
       "2244                            The Warrior's Way   \n",
       "3375  Pirates of the Caribbean: On Stranger Tides   \n",
       "7387     Pirates of the Caribbean: At World's End   \n",
       "14                        Avengers: Age of Ultron   \n",
       "6570                             Superman Returns   \n",
       "\n",
       "                                                   cast        director  \\\n",
       "2244  Kate Bosworth|Jang Dong-gun|Geoffrey Rush|Dann...      Sngmoo Lee   \n",
       "3375  Johnny Depp|PenÃ©lope Cruz|Geoffrey Rush|Ian M...    Rob Marshall   \n",
       "7387  Johnny Depp|Orlando Bloom|Keira Knightley|Geof...  Gore Verbinski   \n",
       "14    Robert Downey Jr.|Chris Hemsworth|Mark Ruffalo...     Joss Whedon   \n",
       "6570  Brandon Routh|Kevin Spacey|Kate Bosworth|James...    Bryan Singer   \n",
       "\n",
       "      runtime                                     genres  \\\n",
       "2244      100  Adventure|Fantasy|Action|Western|Thriller   \n",
       "3375      136                   Adventure|Action|Fantasy   \n",
       "7387      169                   Adventure|Fantasy|Action   \n",
       "14        141           Action|Adventure|Science Fiction   \n",
       "6570      154   Adventure|Fantasy|Action|Science Fiction   \n",
       "\n",
       "                                   production_companies release_date  \\\n",
       "2244                           Boram Entertainment Inc.    12/2/2010   \n",
       "3375  Walt Disney Pictures|Jerry Bruckheimer Films|M...    5/11/2011   \n",
       "7387  Walt Disney Pictures|Jerry Bruckheimer Films|S...    5/19/2007   \n",
       "14    Marvel Studios|Prime Focus|Revolution Sun Studios    4/22/2015   \n",
       "6570  DC Comics|Legendary Pictures|Warner Bros.|Bad ...    6/28/2006   \n",
       "\n",
       "      vote_count  vote_average  release_year   budget_adj    revenue_adj  \\\n",
       "2244          74           6.4          2010  425,000,000     11,087,569   \n",
       "3375        3180           6.3          2011  368,371,256    990,417,500   \n",
       "7387        2626           6.8          2007  315,500,575  1,010,653,508   \n",
       "14          4304           7.4          2015  257,599,887  1,292,632,337   \n",
       "6570         834           5.3          2006  292,050,673    423,020,464   \n",
       "\n",
       "      vote_rating  \n",
       "2244  medium-high  \n",
       "3375  medium-high  \n",
       "7387         high  \n",
       "14           high  \n",
       "6570          low  "
      ]
     },
     "execution_count": 91,
     "metadata": {},
     "output_type": "execute_result"
    }
   ],
   "source": [
    "df.nlargest(5, 'budget')"
   ]
  },
  {
   "cell_type": "markdown",
   "metadata": {},
   "source": [
    "Observation: We get to see top 5 movies with the highest budget. Movie - The Warrior's Way tops the list. Superman Returns which is 5th in the list has low vote_rating.\n",
    "\n",
    "The Warrior's Way though tops the list of high budget movies its popularity is very less than the other movies."
   ]
  },
  {
   "cell_type": "code",
   "execution_count": 112,
   "metadata": {},
   "outputs": [
    {
     "data": {
      "text/html": [
       "<div>\n",
       "<style scoped>\n",
       "    .dataframe tbody tr th:only-of-type {\n",
       "        vertical-align: middle;\n",
       "    }\n",
       "\n",
       "    .dataframe tbody tr th {\n",
       "        vertical-align: top;\n",
       "    }\n",
       "\n",
       "    .dataframe thead th {\n",
       "        text-align: right;\n",
       "    }\n",
       "</style>\n",
       "<table border=\"1\" class=\"dataframe\">\n",
       "  <thead>\n",
       "    <tr style=\"text-align: right;\">\n",
       "      <th></th>\n",
       "      <th>id</th>\n",
       "      <th>popularity</th>\n",
       "      <th>budget</th>\n",
       "      <th>revenue</th>\n",
       "      <th>original_title</th>\n",
       "      <th>cast</th>\n",
       "      <th>director</th>\n",
       "      <th>runtime</th>\n",
       "      <th>genres</th>\n",
       "      <th>production_companies</th>\n",
       "      <th>release_date</th>\n",
       "      <th>vote_count</th>\n",
       "      <th>vote_average</th>\n",
       "      <th>release_year</th>\n",
       "      <th>budget_adj</th>\n",
       "      <th>revenue_adj</th>\n",
       "      <th>vote_rating</th>\n",
       "    </tr>\n",
       "  </thead>\n",
       "  <tbody>\n",
       "    <tr>\n",
       "      <th>3894</th>\n",
       "      <td>125336</td>\n",
       "      <td>0.006925</td>\n",
       "      <td>0</td>\n",
       "      <td>0</td>\n",
       "      <td>The Story of Film: An Odyssey</td>\n",
       "      <td>Mark Cousins|Jean-Michel Frodon|Cari Beauchamp...</td>\n",
       "      <td>Mark Cousins</td>\n",
       "      <td>900</td>\n",
       "      <td>Documentary</td>\n",
       "      <td>NaN</td>\n",
       "      <td>9/3/2011</td>\n",
       "      <td>14</td>\n",
       "      <td>9.2</td>\n",
       "      <td>2011</td>\n",
       "      <td>0.0</td>\n",
       "      <td>0.0</td>\n",
       "      <td>high</td>\n",
       "    </tr>\n",
       "    <tr>\n",
       "      <th>538</th>\n",
       "      <td>224972</td>\n",
       "      <td>0.114264</td>\n",
       "      <td>0</td>\n",
       "      <td>0</td>\n",
       "      <td>The Mask You Live In</td>\n",
       "      <td>NaN</td>\n",
       "      <td>Jennifer Siebel Newsom</td>\n",
       "      <td>88</td>\n",
       "      <td>Documentary</td>\n",
       "      <td>NaN</td>\n",
       "      <td>1/1/2015</td>\n",
       "      <td>11</td>\n",
       "      <td>8.9</td>\n",
       "      <td>2015</td>\n",
       "      <td>0.0</td>\n",
       "      <td>0.0</td>\n",
       "      <td>high</td>\n",
       "    </tr>\n",
       "    <tr>\n",
       "      <th>1200</th>\n",
       "      <td>374430</td>\n",
       "      <td>0.129531</td>\n",
       "      <td>0</td>\n",
       "      <td>0</td>\n",
       "      <td>Black Mirror: White Christmas</td>\n",
       "      <td>Jon Hamm|Rafe Spall|Oona Chaplin|Natalia Tena|...</td>\n",
       "      <td>Carl Tibbetts</td>\n",
       "      <td>74</td>\n",
       "      <td>Drama|Horror|Mystery|Science Fiction|Thriller</td>\n",
       "      <td>NaN</td>\n",
       "      <td>12/16/2014</td>\n",
       "      <td>41</td>\n",
       "      <td>8.8</td>\n",
       "      <td>2014</td>\n",
       "      <td>0.0</td>\n",
       "      <td>0.0</td>\n",
       "      <td>high</td>\n",
       "    </tr>\n",
       "    <tr>\n",
       "      <th>2269</th>\n",
       "      <td>51299</td>\n",
       "      <td>0.222293</td>\n",
       "      <td>0</td>\n",
       "      <td>0</td>\n",
       "      <td>Life Cycles</td>\n",
       "      <td>NaN</td>\n",
       "      <td>Derek Frankowski</td>\n",
       "      <td>47</td>\n",
       "      <td>Documentary</td>\n",
       "      <td>NaN</td>\n",
       "      <td>10/2/2010</td>\n",
       "      <td>27</td>\n",
       "      <td>8.8</td>\n",
       "      <td>2010</td>\n",
       "      <td>0.0</td>\n",
       "      <td>0.0</td>\n",
       "      <td>high</td>\n",
       "    </tr>\n",
       "    <tr>\n",
       "      <th>6911</th>\n",
       "      <td>24970</td>\n",
       "      <td>0.212010</td>\n",
       "      <td>0</td>\n",
       "      <td>0</td>\n",
       "      <td>Pink Floyd: Pulse</td>\n",
       "      <td>David Gilmour|Nick Mason|Richard Wright|Sam Br...</td>\n",
       "      <td>David Mallet</td>\n",
       "      <td>145</td>\n",
       "      <td>Music</td>\n",
       "      <td>SMV Enterprises|Columbia Music Video|EMI</td>\n",
       "      <td>7/9/2006</td>\n",
       "      <td>23</td>\n",
       "      <td>8.7</td>\n",
       "      <td>2006</td>\n",
       "      <td>0.0</td>\n",
       "      <td>0.0</td>\n",
       "      <td>high</td>\n",
       "    </tr>\n",
       "  </tbody>\n",
       "</table>\n",
       "</div>"
      ],
      "text/plain": [
       "          id  popularity  budget  revenue                 original_title  \\\n",
       "3894  125336    0.006925       0        0  The Story of Film: An Odyssey   \n",
       "538   224972    0.114264       0        0           The Mask You Live In   \n",
       "1200  374430    0.129531       0        0  Black Mirror: White Christmas   \n",
       "2269   51299    0.222293       0        0                    Life Cycles   \n",
       "6911   24970    0.212010       0        0              Pink Floyd: Pulse   \n",
       "\n",
       "                                                   cast  \\\n",
       "3894  Mark Cousins|Jean-Michel Frodon|Cari Beauchamp...   \n",
       "538                                                 NaN   \n",
       "1200  Jon Hamm|Rafe Spall|Oona Chaplin|Natalia Tena|...   \n",
       "2269                                                NaN   \n",
       "6911  David Gilmour|Nick Mason|Richard Wright|Sam Br...   \n",
       "\n",
       "                    director  runtime  \\\n",
       "3894            Mark Cousins      900   \n",
       "538   Jennifer Siebel Newsom       88   \n",
       "1200           Carl Tibbetts       74   \n",
       "2269        Derek Frankowski       47   \n",
       "6911            David Mallet      145   \n",
       "\n",
       "                                             genres  \\\n",
       "3894                                    Documentary   \n",
       "538                                     Documentary   \n",
       "1200  Drama|Horror|Mystery|Science Fiction|Thriller   \n",
       "2269                                    Documentary   \n",
       "6911                                          Music   \n",
       "\n",
       "                          production_companies release_date  vote_count  \\\n",
       "3894                                       NaN     9/3/2011          14   \n",
       "538                                        NaN     1/1/2015          11   \n",
       "1200                                       NaN   12/16/2014          41   \n",
       "2269                                       NaN    10/2/2010          27   \n",
       "6911  SMV Enterprises|Columbia Music Video|EMI     7/9/2006          23   \n",
       "\n",
       "      vote_average  release_year  budget_adj  revenue_adj vote_rating  \n",
       "3894           9.2          2011         0.0          0.0        high  \n",
       "538            8.9          2015         0.0          0.0        high  \n",
       "1200           8.8          2014         0.0          0.0        high  \n",
       "2269           8.8          2010         0.0          0.0        high  \n",
       "6911           8.7          2006         0.0          0.0        high  "
      ]
     },
     "execution_count": 112,
     "metadata": {},
     "output_type": "execute_result"
    }
   ],
   "source": [
    "df.nlargest(5, 'vote_average')"
   ]
  },
  {
   "cell_type": "markdown",
   "metadata": {},
   "source": [
    "Observation: \n",
    "Movie 'The Story of Film: An Odyssey' tops the list of vote_average. "
   ]
  },
  {
   "cell_type": "markdown",
   "metadata": {},
   "source": [
    "# Question 10 Which is the genre with highest number of movies in the dataset?"
   ]
  },
  {
   "cell_type": "code",
   "execution_count": 93,
   "metadata": {},
   "outputs": [],
   "source": [
    "def breakdata(column):\n",
    "    data =df[column].str.cat(sep='|')\n",
    "    data = pd.Series(data.split('|'))\n",
    "    count = data.value_counts(ascending=False)\n",
    "    return count\n"
   ]
  },
  {
   "cell_type": "code",
   "execution_count": 94,
   "metadata": {},
   "outputs": [
    {
     "data": {
      "text/plain": [
       "Drama       4738\n",
       "Comedy      3765\n",
       "Thriller    2900\n",
       "Action      2374\n",
       "Romance     1703\n",
       "dtype: int64"
      ]
     },
     "execution_count": 94,
     "metadata": {},
     "output_type": "execute_result"
    }
   ],
   "source": [
    "count = breakdata('genres')\n",
    "count.head()\n"
   ]
  },
  {
   "cell_type": "markdown",
   "metadata": {},
   "source": [
    "Observation: Drama has highest number of movies and it is followed by comedy."
   ]
  },
  {
   "cell_type": "markdown",
   "metadata": {},
   "source": [
    "# Question 11 How has been the trend of the movie release over the years?"
   ]
  },
  {
   "cell_type": "code",
   "execution_count": 108,
   "metadata": {},
   "outputs": [
    {
     "data": {
      "text/plain": [
       "release_year\n",
       "1960    32\n",
       "1961    31\n",
       "1962    32\n",
       "1963    34\n",
       "1964    42\n",
       "Name: id, dtype: int64"
      ]
     },
     "execution_count": 108,
     "metadata": {},
     "output_type": "execute_result"
    }
   ],
   "source": [
    "movie_count = df.groupby('release_year').count()['id']\n",
    "movie_count.head()"
   ]
  },
  {
   "cell_type": "code",
   "execution_count": 109,
   "metadata": {},
   "outputs": [
    {
     "data": {
      "image/png": "[encoded data removed]",
      "text/plain": [
       "<Figure size 864x504 with 1 Axes>"
      ]
     },
     "metadata": {},
     "output_type": "display_data"
    }
   ],
   "source": [
    "#set style\n",
    "sns.set_style('darkgrid')\n",
    "#set x, y axis data\n",
    "# x is movie release year\n",
    "x = movie_count.index\n",
    "# y is number of movie released\n",
    "y = movie_count\n",
    "#set size\n",
    "plt.figure(figsize=(12, 7))\n",
    "#plot line chart \n",
    "plt.plot(x, y, color = 'r', label = 'mean')\n",
    "#set title and labels\n",
    "plt.title('Number of Movie Released year by year')\n",
    "plt.xlabel('Year')\n",
    "plt.ylabel('Number of Movie Released');"
   ]
  },
  {
   "cell_type": "markdown",
   "metadata": {},
   "source": [
    "Observation: As the years passed we see there was a rise in the number of movies released each year."
   ]
  },
  {
   "cell_type": "markdown",
   "metadata": {},
   "source": [
    "# Question 12 Which is the most popular movie in this dataset?"
   ]
  },
  {
   "cell_type": "code",
   "execution_count": 140,
   "metadata": {},
   "outputs": [],
   "source": [
    "popular_movie = df[['original_title', 'popularity']]"
   ]
  },
  {
   "cell_type": "code",
   "execution_count": 142,
   "metadata": {},
   "outputs": [
    {
     "data": {
      "text/plain": [
       "Text(0.5,1,'The popularity rating of each movie in the dataset')"
      ]
     },
     "execution_count": 142,
     "metadata": {},
     "output_type": "execute_result"
    },
    {
     "data": {
      "image/png": "[encoded data removed]",
      "text/plain": [
       "<Figure size 2160x1440 with 1 Axes>"
      ]
     },
     "metadata": {},
     "output_type": "display_data"
    }
   ],
   "source": [
    "plt.figure(figsize=[30,20])\n",
    "sns.barplot(data=movie_popu.sort_values(by='popularity', ascending=False)[0:50], x='original_title', y='popularity')\n",
    "plt.xticks(rotation=100)\n",
    "plt.xlabel('Movie')\n",
    "plt.ylabel('Popularity rating')\n",
    "plt.title('The popularity rating of each movie in the dataset')"
   ]
  },
  {
   "cell_type": "markdown",
   "metadata": {},
   "source": [
    "Observation: Jurassic world , Mad Max & Interstellar' are the most popular movies in the dataset and they are way morre popular than many other movies in the dataset."
   ]
  },
  {
   "cell_type": "markdown",
   "metadata": {},
   "source": [
    "## Conclusions\n"
   ]
  },
  {
   "cell_type": "markdown",
   "metadata": {},
   "source": [
    "\n",
    "Data cleaning: In the data cleaning process I found that many values were null values in various columns. Hence I droppped null values in cast, genres and director.\n",
    "The major problem with the data set was of 'zero' values in the dataset  in the revenue and budget column. And more than 50% of the films had 'zero' value in their columns. Which is realyy impossible in reality as there can be no films that had zero budget and revenue too zero. To my surprise that it was in large numbers. Hence I decided to to retain these rows and replace zero values with null values, to keep the integrity of the data.\n",
    "The same case exists in column 'runtime' , but the zero values in that column very few so I dropped them.\n",
    "\n",
    "Overall the data was clean and had only one duplicate row and it was dropped. The number of movies in the datset were enough to the analysis and will help us to understand the trend of the movies over the years and its co relation with other variables in better way.\n",
    "\n",
    "Drawback in the dataset:\n",
    "It will be more informative if the actual cost of thee film was also included in the dataset because budget minus revenue is not the accurate way tto calculate the profit made by the movies.\n",
    "The zero values in the revenue and budget were in excess and hence making calualtions related to these columns would not be a good idea.\n",
    "\n",
    "Insights:\n",
    "\n",
    "We usually think more is the budget more is the popularity as viewers are more keen to such movies which are expensive due to its expenses spent on technicl effects and locations of shoots or extra vagant expenses to give a best view experience. By the scatter plot I notice that the theres no much co relation between the budget of the movies and its popularity, that is more the budget more is its popularity is not true. There are movies whose budget were more than the other maximum movies but they were not popular.\n",
    "\n",
    "I was more curious to know if the popularity of the films, does it increase or decrease over the year with advent of technology and other means of entertainment in our day to day like like plays, game stations and tourism or amusemment parks etc. Through scatter plot I could undersatnd the popularity of films have increased over the years and i think that can be due to innovation in film making of social media in the recent years.\n",
    "\n",
    "The question that I explored was that if the runtime is more how is its popularity? The anser to it was very much obvious that more runtime, more is the popularity as people prefer a film more engaging with better story and entertain them for atleast 2 hours.\n",
    "\n",
    "Another insight that we can get is the more the popularity more is the vote avrage ranking and popular movies will get better vote average by the viewers. \n",
    "\n",
    "We usually think that directors who make maximum movies must be most popular but this was challenged by the graph that suggested that, client Eastwood made more popular movies than Woody Allen, Though Woody Allen made more movies than Clint Eastwood.\n",
    "\n",
    "With more other forms of entertainement and inflation, I was curious to know do film makers make more movies or has it decreased over the years, As the years passed we see there was a rise in the number of movies released each year, but a recent drop near 2013-2015.\n",
    "\n",
    "Ofcourse, I wanted to know the most popular movie in the dataset and Jurassic world was the most popular movie till date and it is not surprisisng to know that as it was indeed block buster movie.\n",
    "     \n",
    "It was certainly a great experience to analyze this dataset through various statistical graphs to clear pre concieved notions and know more about the dataset."
   ]
  }
 ],
 "metadata": {
  "kernelspec": {
   "display_name": "Python 3",
   "language": "python",
   "name": "python3"
  },
  "language_info": {
   "codemirror_mode": {
    "name": "ipython",
    "version": 3
   },
   "file_extension": ".py",
   "mimetype": "text/x-python",
   "name": "python",
   "nbconvert_exporter": "python",
   "pygments_lexer": "ipython3",
   "version": "3.6.5"
  }
 },
 "nbformat": 4,
 "nbformat_minor": 2
}
